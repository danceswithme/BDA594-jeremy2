{
  "cells": [
    {
      "cell_type": "markdown",
      "metadata": {
        "id": "42Im2753hpKY"
      },
      "source": [
        "# Regression and Classification Assignment\n",
        "\n",
        "This notebook uses the data discussed in regression_and_classification notebook.   You may want to review that if you\n",
        "have trouble with the assignment."
      ]
    },
    {
      "cell_type": "markdown",
      "metadata": {
        "id": "ZnUz9JCyhpKe"
      },
      "source": [
        "## 1. The data"
      ]
    },
    {
      "cell_type": "markdown",
      "metadata": {
        "id": "xuBbuIIVhpKf"
      },
      "source": [
        "First we do some imports and load the data from the `sklearn` module."
      ]
    },
    {
      "cell_type": "code",
      "execution_count": 30,
      "metadata": {
        "id": "uD5g8xOJhpKg"
      },
      "outputs": [],
      "source": [
        "from sklearn.datasets import load_iris\n",
        "from sklearn.metrics import accuracy_score,precision_score, recall_score\n",
        "from sklearn import linear_model\n",
        "import numpy as np\n",
        "\n",
        "\n",
        "data = load_iris()\n",
        "features = data['data']\n",
        "feature_names = data['feature_names']\n",
        "target = data['target']"
      ]
    },
    {
      "cell_type": "markdown",
      "metadata": {
        "id": "E3hjVAj_hpKh"
      },
      "source": [
        "## 2.  The questions"
      ]
    },
    {
      "cell_type": "markdown",
      "metadata": {
        "id": "haxHzazGhpKi"
      },
      "source": [
        "**Q1**\n",
        "\n",
        "Don't take my word for it that subsets of the 4 Iris features always produce a worse classifier.\n",
        "Try it out.\n",
        "\n",
        "Change the selector array in the next cell and execute the code\n",
        "in the cell to try out your own favorite subsets\n",
        "of features.  No subset of 2 or even 3 features performs as well as using all 4.\n",
        "\n",
        "For example, using this selector\n",
        "```\n",
        "selector = np.array([True,True,False,True])\n",
        "```\n",
        "\n",
        "leaves out just  the third feature.  Here's your challenge: Find the best 2-feature\n",
        "system (it performs almost as well as any 3-feature system), and the best\n",
        "3-feature system.  Hint for the 2-feature problem, if you want to get there more\n",
        "quickly.  Look at our plots of two-feature systems in the \"Plotting 2D Projections of the data\"\n",
        "section of the regression_and_classification.ipynb notebook (Section 3).  Which one **looks**\n",
        "like it gives the best separation?"
      ]
    },
    {
      "cell_type": "code",
      "execution_count": 12,
      "metadata": {
        "id": "PEgQIU9ghpKj",
        "outputId": "ff6afe42-8a62-4633-eb24-7232dc2637f6",
        "colab": {
          "base_uri": "https://localhost:8080/"
        }
      },
      "outputs": [
        {
          "output_type": "execute_result",
          "data": {
            "text/plain": [
              "0.9666666666666667"
            ]
          },
          "metadata": {},
          "execution_count": 12
        }
      ],
      "source": [
        "#Use selected features\n",
        "selector = np.array([True  ,True  ,False ,True])\n",
        "X = features[:,selector]\n",
        "#X = features\n",
        "Y = target\n",
        "logreg = linear_model.LogisticRegression(C=1e5, solver='lbfgs',multi_class='auto')\n",
        "logreg.fit(X, Y)\n",
        "\n",
        "#Tesing on training set.  Not usually done.\n",
        "predicted = logreg.predict(X)\n",
        "accuracy_score(Y,predicted)"
      ]
    },
    {
      "cell_type": "markdown",
      "source": [
        "Based on looking at the graphs, the two-feature systems that generate the best separation are the bottom 3, so we will try each one. Also top middle.\n",
        "Feature 1 is sepal length, 2 is sepal width, 3 is petal length, 4 is petal width.\n",
        "\n",
        "Test Results:\n",
        "\n",
        "13: 0.967\n",
        "\n",
        "23: 0.953\n",
        "\n",
        "24: 0.953\n",
        "\n",
        "34: 0.96\n",
        "\n",
        "After finding the best 2 feature which was sepal and petal length, use that long with varying the other one to see.\n",
        "\n",
        "134: 0.98\n",
        "\n",
        "123: 0.967\n",
        "\n",
        "1234: 0.9867 which makes sense it would be the best since it has the most data points to have the best predictions\n",
        "\n",
        "\n",
        "Trying others:\n",
        "\n",
        "234: 0.98\n",
        "\n",
        "124: 0.967\n",
        "\n",
        "\n",
        "So the most accurate two-feature is sepal and petal length with an accuracy sccore of 0.967. The most accurate three-features were a tie between either sepal length or width along with both petal length and width.\n"
      ],
      "metadata": {
        "id": "D0oMws7SHkLE"
      }
    },
    {
      "cell_type": "markdown",
      "metadata": {
        "id": "vRFngubohpKk"
      },
      "source": [
        "To give a clue as to how to code up a comparison of different classification\n",
        "models,  consider the following code, which uses 4 variant models\n",
        "and evaluates each model using the Accuracy metric.\n",
        "\n",
        "The SVC classifier with the RBF kernel is the winner, but not\n",
        "by much."
      ]
    },
    {
      "cell_type": "code",
      "execution_count": 13,
      "metadata": {
        "id": "ZI8n18ZfhpKl",
        "outputId": "693d0083-fb74-470d-dcb3-2fc41606ac61",
        "colab": {
          "base_uri": "https://localhost:8080/"
        }
      },
      "outputs": [
        {
          "output_type": "execute_result",
          "data": {
            "text/plain": [
              "[0.9666666666666667,\n",
              " 0.9266666666666666,\n",
              " 0.9666666666666667,\n",
              " 0.9533333333333334]"
            ]
          },
          "metadata": {},
          "execution_count": 13
        }
      ],
      "source": [
        "from sklearn import svm, datasets\n",
        "\n",
        "#An SVM parameter, some others below.\n",
        "C=1.0\n",
        "\n",
        "# Cook up a tuple of models to test (These are the models from the last\n",
        "# plot in the simple regression NB)\n",
        "\n",
        "models = (svm.SVC(kernel='linear', C=C),\n",
        "          svm.LinearSVC(C=C, max_iter=10000),\n",
        "          svm.SVC(kernel='rbf', gamma=0.7, C=C),\n",
        "          svm.SVC(kernel='poly', degree=3, gamma='auto', C=C))\n",
        "\n",
        "# train them Notice this is not a list comprehension but looks like one.\n",
        "models = (clf.fit(X, Y) for clf in models)\n",
        "\n",
        "#Testing on training set.  Not usually done.\n",
        "predicted = [model.predict(X) for model in models]\n",
        "accuracy = [accuracy_score(Y,prediction) for prediction in predicted]\n",
        "accuracy"
      ]
    },
    {
      "cell_type": "markdown",
      "metadata": {
        "id": "ulXliK5HhpKm"
      },
      "source": [
        "One final point, this is balanced data, so it's not unreasonable to\n",
        "use accuracy to compare the 6 models, as in the cell above,\n",
        "but be sure to compare the accuracy over 10 different train/test splits as we did\n",
        "in Section 6 of the regression_and_classification notebook.  That means each of the 6 classifiers you're testing will generate 10 accuracy scores.  In order to declare a final winner, you should\n",
        "average the 10 accuracy scores.  The winner will be the classifier that achieves the highest average accuracy\n",
        "over the 10 test runs.\n"
      ]
    },
    {
      "cell_type": "markdown",
      "metadata": {
        "id": "CmhScxIwhpKm"
      },
      "source": [
        "**Q2**\n",
        "\n",
        "In the regression_and_classification notebook,\n",
        "we implemented a function called `is_red` that is supposed to distinguish\n",
        "class 0 from classes 1 and 2.  Here is the definition and an example of using it\n",
        "on a row of the Iris dataset."
      ]
    },
    {
      "cell_type": "code",
      "execution_count": 14,
      "metadata": {
        "id": "uwLlT3sKhpKn",
        "outputId": "49e61f17-9ef3-4f04-c43c-aa94831f8003",
        "colab": {
          "base_uri": "https://localhost:8080/"
        }
      },
      "outputs": [
        {
          "output_type": "stream",
          "name": "stdout",
          "text": [
            "P is red: False\n"
          ]
        }
      ],
      "source": [
        "def is_red (P):\n",
        "    \"\"\"\n",
        "    P is a data point, all 4 attributes.\n",
        "\n",
        "    Return True if P is in positive class.\n",
        "    \"\"\"\n",
        "    return (P[2] - .9*P[0] + 2) < 0\n",
        "\n",
        "P = features[-90]\n",
        "print('P is red: {0}'.format(is_red(P)))"
      ]
    },
    {
      "cell_type": "markdown",
      "metadata": {
        "id": "T_xbu-DZhpKn"
      },
      "source": [
        "We call such a function a model (a model of `redness` in this case).\n",
        "\n",
        "Consider a different model.  A model of non-redness. This model\n",
        "has a different positive class (non red instead of red).  We illustrate by applying to our\n",
        "model to example point P, which is not red:"
      ]
    },
    {
      "cell_type": "code",
      "execution_count": 15,
      "metadata": {
        "id": "iYltUROZhpKn",
        "outputId": "0fcda3d7-edc4-42bc-dff0-a1e2e1effc45",
        "colab": {
          "base_uri": "https://localhost:8080/"
        }
      },
      "outputs": [
        {
          "output_type": "stream",
          "name": "stdout",
          "text": [
            "P is non red: True\n"
          ]
        }
      ],
      "source": [
        "def is_non_red (P):\n",
        "    \"\"\"\n",
        "    P is a data point, all 4 attributes.\n",
        "\n",
        "    Return True if P is in positive class.\n",
        "    \"\"\"\n",
        "    return (P[2] - .9*P[0] + 2) > 0\n",
        "\n",
        "P = features[-90]\n",
        "print('P is non red: {0}'.format(is_non_red(P)))"
      ]
    },
    {
      "cell_type": "markdown",
      "metadata": {
        "id": "5winVRmUhpKo"
      },
      "source": [
        "Write some code to evaluate this model's accuracy\n",
        "in predicting non-redness.  Before calling the `accuracy_score` function,\n",
        "you will have to compute `predicted` using `is_non_red` to give you an array of predictions\n",
        "\n",
        "\n",
        "To create a prediction array using `is_non_red`, apply it to every row\n",
        "of `features`:\n",
        "\n",
        "```\n",
        "np.apply_along_axis(is_non_red, axis=1, arr= features)\n",
        "```\n",
        "\n",
        "You will also have to evaluate accuracy against a different standard.\n",
        "You can't evaluate against the class array `target` defined above\n",
        "because that has three classes and `is_non_red` essentially works with two.\n",
        "You have to start by creating a different\n",
        "class array that only has two classes, matching the kind of results `is_non_red` produces.\n",
        "The red class is 0, so you want `True` for every class 1 or 2 iris, and\n",
        "`False` for every class 0 iris. For this, use a Boolean mask on `target`.\n",
        "\n",
        "For this problem, you do not have to different train/test splits."
      ]
    },
    {
      "cell_type": "code",
      "execution_count": null,
      "metadata": {
        "id": "oJjg01AhhpKo",
        "outputId": "cc49fc0b-60dd-4779-cffc-db9419a50d69"
      },
      "outputs": [
        {
          "data": {
            "text/plain": [
              "array([False, False, False, False, False, False, False, False, False,\n",
              "       False, False, False, False, False, False, False, False, False,\n",
              "       False, False, False, False, False, False, False, False, False,\n",
              "       False, False, False, False, False, False, False, False, False,\n",
              "       False, False, False, False, False, False, False, False, False,\n",
              "       False, False, False, False, False,  True,  True,  True,  True,\n",
              "        True,  True,  True,  True,  True,  True,  True,  True,  True,\n",
              "        True,  True,  True,  True,  True,  True,  True,  True,  True,\n",
              "        True,  True,  True,  True,  True,  True,  True,  True,  True,\n",
              "        True,  True,  True,  True,  True,  True,  True,  True,  True,\n",
              "        True,  True,  True,  True,  True,  True,  True,  True,  True,\n",
              "        True,  True,  True,  True,  True,  True,  True,  True,  True,\n",
              "        True,  True,  True,  True,  True,  True,  True,  True,  True,\n",
              "        True,  True,  True,  True,  True,  True,  True,  True,  True,\n",
              "        True,  True,  True,  True,  True,  True,  True,  True,  True,\n",
              "        True,  True,  True,  True,  True,  True,  True,  True,  True,\n",
              "        True,  True,  True,  True,  True,  True])"
            ]
          },
          "execution_count": 8,
          "metadata": {},
          "output_type": "execute_result"
        }
      ],
      "source": [
        "np.apply_along_axis(is_non_red, axis=1, arr= features)"
      ]
    },
    {
      "cell_type": "markdown",
      "metadata": {
        "id": "p1KTwFBAhpKp"
      },
      "source": [
        "**Q3  Visualization**\n",
        "\n",
        "Using the `rock vs. mines` data set loaded in the next cell, draw a scatterplot of the points like the ones we did in Section 2 and 3 of the regression_and_classification notebook (R&C NB) for the iris data.\n",
        "You will find the code in Section 3 of the R&C NB will require the least modification.\n",
        "\n",
        "This data set tries to distinguish two classes, rocks and mines, based on sonar readings.\n",
        "As the loading code indicates, this data has 60 features, which is a lot, so you should\n",
        "just pick one pair of features out and plot them.  Crucially,\n",
        "you **don't** need to plot all pairs (there are 1770 pairs).\n",
        "\n",
        "When modifying the code to draw the picture, bear in mind you really only need to\n",
        "scatter the points.  You are not being asked to draw a separation line,\n",
        "and you don't need to draw the point P being depicted in Sections 2 and 3,\n",
        "because it doesn't appear in this data.\n",
        "\n",
        "You should try to give the points belonging to the two classes different colors\n",
        "and shapes, as was done in R&C NB."
      ]
    },
    {
      "cell_type": "code",
      "execution_count": null,
      "metadata": {
        "scrolled": true,
        "id": "le_V-M95hpKp",
        "outputId": "3fd724c2-4554-4627-ca0f-94d3cef91757"
      },
      "outputs": [
        {
          "name": "stdout",
          "output_type": "stream",
          "text": [
            "208 exemplars with 61 features\n",
            "2 classes: ['M', 'R']\n"
          ]
        }
      ],
      "source": [
        "import pandas as pd\n",
        "\n",
        "target_url = (\"https://archive.ics.uci.edu/ml/machine-learning-\"\n",
        "\"databases/undocumented/connectionist-bench/sonar/sonar.all-data\")\n",
        "\n",
        "#read rocks mines data\n",
        "mine_df = pd.read_csv(target_url, header=None), prefix=\"V\")\n",
        "#mine_df = pd.read_csv(target_url, header=None)\n",
        "mine_features = mine_df.values\n",
        "(samp_sz, num_feats) = mine_features.shape\n",
        "print('{0} exemplars with {1} features'.format(samp_sz, num_feats))\n",
        "# The last column contains the class data.  Separate it from the others.\n",
        "target = mine_features[:, 60]\n",
        "# Everything else is a feature\n",
        "mine_features = mine_features[:, :60]\n",
        "(samp_sz, num_feats) = mine_features.shape\n",
        "\n",
        "# Find the two classes we're trying to separate.\n",
        "feat_set = list(set(target))\n",
        "print('{0} classes: {1}'.format(len(feat_set), feat_set))"
      ]
    },
    {
      "cell_type": "code",
      "execution_count": null,
      "metadata": {
        "id": "VCpIIiEXhpKp",
        "outputId": "9f4c201a-b91a-428f-8811-e401fd32e6e4"
      },
      "outputs": [
        {
          "data": {
            "text/plain": [
              "[(0, 'o', 'r'), (1, 'x', 'g')]"
            ]
          },
          "execution_count": 10,
          "metadata": {},
          "output_type": "execute_result"
        }
      ],
      "source": [
        "markers,colors = 'ox','rg'\n",
        "list(zip(range(3),markers,colors))"
      ]
    },
    {
      "cell_type": "code",
      "execution_count": null,
      "metadata": {
        "id": "hugm-u-thpKq",
        "outputId": "deeeebdb-9edd-46b0-a87d-2182d836f4a6"
      },
      "outputs": [
        {
          "data": {
            "text/plain": [
              "array([], dtype=object)"
            ]
          },
          "execution_count": 11,
          "metadata": {},
          "output_type": "execute_result"
        }
      ],
      "source": [
        "mine_features[target==0,0]"
      ]
    },
    {
      "cell_type": "code",
      "execution_count": null,
      "metadata": {
        "id": "LDyn-pLyhpKq",
        "outputId": "8a9659cc-d299-4edb-bc83-790744a2b02e"
      },
      "outputs": [
        {
          "data": {
            "text/plain": [
              "[0, 1, 2]"
            ]
          },
          "execution_count": 12,
          "metadata": {},
          "output_type": "execute_result"
        }
      ],
      "source": [
        "list(range(3))"
      ]
    },
    {
      "cell_type": "markdown",
      "metadata": {
        "id": "AhRqPCYShpKr"
      },
      "source": [
        "**Q4**\n",
        "\n",
        "Combining variables: Cheap non-linearity"
      ]
    },
    {
      "cell_type": "markdown",
      "metadata": {
        "id": "GKVLrcg3hpKr"
      },
      "source": [
        "The [Heidelberg stat-center](http://www.statlab.uni-heidelberg.de/data/iris/) reports a very nice result obtained by combining\n",
        "the 2 petal features and the  2 sepal features by multiplication.  We end up with 2 **area** features, and a system that's almost as good as a 4-feature linear system,\n",
        "at the cost of a little non-linearity (the multiplication). Here's the computation,\n",
        "and the picture, both of which are very simple.  \n",
        "\n",
        "Notice what the picture is telling us:  Petal area alone\n",
        "is enough to almost perfectly perform the discrimination.  And the insight can easily be made visual."
      ]
    },
    {
      "cell_type": "code",
      "execution_count": 16,
      "metadata": {
        "id": "X_yr2prehpKs",
        "outputId": "bce30452-5095-4895-abbe-ce6bbaeaa2b1",
        "colab": {
          "base_uri": "https://localhost:8080/",
          "height": 466
        }
      },
      "outputs": [
        {
          "output_type": "execute_result",
          "data": {
            "text/plain": [
              "Text(0, 0.5, 'petal area')"
            ]
          },
          "metadata": {},
          "execution_count": 16
        },
        {
          "output_type": "display_data",
          "data": {
            "text/plain": [
              "<Figure size 640x480 with 1 Axes>"
            ],
            "image/png": "[encoded data removed]"
          },
          "metadata": {}
        }
      ],
      "source": [
        "from sklearn.datasets import load_iris\n",
        "from sklearn.metrics import accuracy_score,precision_score,recall_score\n",
        "import numpy as np\n",
        "from matplotlib import pyplot as plt\n",
        "\n",
        "data = load_iris()\n",
        "features = data['data']\n",
        "feature_names = data['feature_names']\n",
        "target = data['target']\n",
        "sepal_area = features[:,0] * features[:,1]\n",
        "petal_area = features[:,2] * features[:,3]\n",
        "\n",
        "for t,marker,c in zip(list(range(3)),\">ox\",\"rgb\"):\n",
        "    plt.scatter(sepal_area[target == t], petal_area[target == t], marker=marker, c=c,s=60)\n",
        "\n",
        "# Let's draw our point P with extra special attention getting large SIZE.\n",
        "p_sepal_area,p_petal_area,p_target  = sepal_area[-90],petal_area[-90],target[-90]\n",
        "marker,clr = \">ox\"[p_target], \"rgb\"[p_target]\n",
        "plt.scatter(p_sepal_area,p_petal_area,marker=marker,c=clr,s=180)\n",
        "\n",
        "# Let's draw some linear separators, horizontal lines in this case\n",
        "plt.plot(np.arange(0.,40.),np.array([1.8]*40))\n",
        "plt.plot(np.arange(0.,40.),np.array([7.4]*40))\n",
        "plt.axis('tight')\n",
        "plt.xlabel('sepal area')\n",
        "plt.ylabel('petal area')"
      ]
    },
    {
      "cell_type": "markdown",
      "metadata": {
        "id": "Zw6S6G6whpKs"
      },
      "source": [
        "**Q4: Part A**\n",
        "\n",
        "Validate what the picture is telling you by training and evaluating a `linear_model.LogisticRegression`\n",
        "classifier that uses **only** the petal area feature (the main\n",
        "dimension of separation in the picture).   Be sure to do a training/test split and\n",
        "use 20% of the data for your test, as in\n",
        "\n",
        "```python\n",
        "from sklearn.model_selection import train_test_split\n",
        "\n",
        "# Split the data into a training set and a test set (random_state=0 guarantees the same\n",
        "# split on multiple runs)\n",
        "X_train, X_test, y_train, y_test = train_test_split(X, y, test_size=.2, random_state=47)\n",
        "```\n",
        "\n",
        "For this problem, you do not have to do multiple train/test runs.\n",
        "\n",
        "You can define values for `petal_area` feature by evaluating the cell above.  Your\n",
        "answer can rely on that definition\n",
        "and therefore should be only a few lines of code.  The last few lines should print out\n",
        "precision, recall, and accuracy scores for your classifier.\n",
        "\n",
        "For submitting your discussion question answers, you will want to\n",
        "submit the few lines of code plus some evaluation results. For those,\n",
        "consider the following points.\n",
        "\n",
        "1.  When we defined precision and recall, we did so in a setting where there\n",
        "    were only two classes.  For this problem there are three classes, which\n",
        "    means you will need to choose between different interpretation of\n",
        "    precision and recall.  Use `average=None`, as in\n",
        "\n",
        "    ```python\n",
        "    metrics.precision_score(actual,predicted,average=None)\n",
        "    ```\n",
        "\n",
        "    This means you will get three different precision scores,\n",
        "    one for each species, instead of a single averaged score.\n",
        "\n",
        "2. You may also find it interesting to try out the scikit learn confusion matrix:\n",
        "\n",
        "   ```python\n",
        "   from sklearn import metrics\n",
        "   print(metrics.confusion_matrix(actual, predicted))\n",
        "   ```\n",
        "\n",
        "   For a slightly different display strategy, see the section entitled **An evaluation experiment** in the [Classification notebook.](https://colab.research.google.com/github/gawron/python-for-social-science/blob/master/text_classification/regression_and_classification.ipynb)\n",
        "   You might also want to try the variant `multilabel_confusion_matrix` appropriate for multiclass problems,\n",
        "   which returns a 3D matrix, one layer for each class, where each layer is a 2x2 (one vs all) confusion matrix\n",
        "   for its class.\n",
        "\n",
        "3.  Finally, for an informative (but not complete) report on your classifier, try\n",
        "\n",
        "    ```python\n",
        "    print(metrics.classification_report(actual, predicted, digits=3))\n",
        "    ```\n",
        "\n",
        "    which also gives support figures --- how many instances of each class were found in the data --- and F-score, a way of averaging the precision and recall scores.\n",
        "    \n",
        "    By default, `classification_report` returns a formatted string which can be printed\n",
        "    as done here. With the optional argument `output_dict=True`, it returns a dictionary,\n",
        "    which you can do more with, such as creating a pandas `DataFrame` using `pd.DataFrame.from_dict`.\n",
        "    This gives you more control over what things are displayed and how.\n",
        "    \n",
        "    An alternative way of getting at the numbers you want is\n",
        "    \n",
        "    ```python\n",
        "    (p,r,f,s) = metrics.precision_recall_fscore_support(Y,predicted,average=None)\n",
        "    ```\n",
        "    \n",
        "    Again, it would make sense to store these numbers in a DataFrame.  \n",
        "    \n",
        "Motivational note:  What we are doing in this problem is pejoratively referred to\n",
        "as **feature hacking**, but really it's another example of\n",
        "the sort of transformations of the data into a different\n",
        "space that we explored when we looked at polynomial\n",
        "models in the simple regression notebook.  What does multiplying feature values have to do with\n",
        "higher-dimensional polynomial models?  After all,\n",
        "we started with 4 features and now have only 1!  Well of course\n",
        "the petal area model is not a higher dimensional model, but it is a subset of the features of a quadratic model\n",
        "with feature interactions.  Suppose we have a 2-dimensional model:\n",
        "\n",
        "$$\n",
        "\\lbrack a, b  \\rbrack\n",
        "$$\n",
        "\n",
        "The quadratic model with feature interactions would transform this into a 6-dimensional model\n",
        "\n",
        "$$\n",
        "\\lbrack 1, a, b, ab, a^{2}, b^{2}  \\rbrack\n",
        "$$\n",
        "\n",
        "In scikit learn, the feature `ab` is called an interaction feature.\n",
        "Hence our proposed petal area model is like a quadratic model\n",
        "that uses only the interaction feature.  You can't\n",
        "quite get that using `preprocessing.PolynomialFeatures` in\n",
        "scikit learn, but you can get close.\n",
        "If you start with a 2-feature model (`a` and `b`), the minimal quadratic\n",
        "transformer in scikit learn is constructed as follows:\n",
        "\n",
        "```python\n",
        "poly = preprocessing.PolynomialFeatures(degree=2, include_bias=False, interaction_only=True)\n",
        "\n",
        "```\n",
        "\n",
        "This produces a model with 3 features:\n",
        "\n",
        "$$\n",
        "\\lbrack a, b, ab \\rbrack\n",
        "$$"
      ]
    },
    {
      "cell_type": "markdown",
      "metadata": {
        "id": "tsRk5k7FhpKt"
      },
      "source": [
        "**More challenging version of Q4 Part A**: Instead of the 1-feature petal area representation the first\n",
        "sentence of Q4 Part A describes, you are welcome to try the following slightly\n",
        "more challenging strategy in answering question Q4 Part A.\n",
        "\n",
        ">Use scikit learn's `PolynomialFeatures`\n",
        "transformer (created with the parameters above)\n",
        "to represent your training and test data\n",
        "instead of the `petal_area` representation created in the code cell for Q4.\n",
        "To get the fewest number of features, you\n",
        "would submit just the petal features (columns 3 and 4 in `features`)\n",
        "to the transformer.\n",
        "\n",
        "This will give you a 3-feature representation\n",
        "of the data. That's because petal length and petal width will be kept\n",
        "as features, but that will make little\n",
        "difference to the structure of your code.  You can do this either by\n",
        "transforming the data directly using the transformer's `.fit_transform()` and\n",
        "`.transform()` methods or by using the sort of pipeline that was demonstrated in the polynomial model\n",
        "in the simple_regression notebook. Whether you use the pipeline or\n",
        "not, you may find it helpful to include scaling\n",
        "in processing the data (as was done in the simple_regression notebook)."
      ]
    },
    {
      "cell_type": "code",
      "execution_count": 17,
      "metadata": {
        "id": "yHhtWqQghpKt",
        "outputId": "f6a251f5-f493-4153-e312-8729143e88b6",
        "colab": {
          "base_uri": "https://localhost:8080/"
        }
      },
      "outputs": [
        {
          "output_type": "execute_result",
          "data": {
            "text/plain": [
              "['sepal length (cm)',\n",
              " 'sepal width (cm)',\n",
              " 'petal length (cm)',\n",
              " 'petal width (cm)']"
            ]
          },
          "metadata": {},
          "execution_count": 17
        }
      ],
      "source": [
        "feature_names"
      ]
    },
    {
      "cell_type": "code",
      "source": [
        "from sklearn.model_selection import train_test_split\n",
        "\n",
        "from sklearn.linear_model import LogisticRegression\n",
        "\n",
        "from sklearn import metrics\n",
        "\n",
        "X_train, X_test, y_train, y_test = train_test_split(petal_area.reshape(-1, 1), target, test_size=.2, random_state=69)\n",
        "lin = linear_model.LogisticRegression(C=1e5, solver='liblinear',multi_class='auto')\n",
        "lin.fit(X_train, y_train)\n",
        "predicted = lin.predict(X_test)\n",
        "\n",
        "actual = y_test\n",
        "metrics.precision_score(actual,predicted,average=None)\n",
        "\n",
        "from sklearn import metrics\n",
        "print(metrics.confusion_matrix(actual, predicted))\n",
        "print(metrics.classification_report(actual, predicted, digits=3))"
      ],
      "metadata": {
        "id": "FVQOJF2QSu-u",
        "outputId": "287fb306-bc4f-4ab2-9cd9-df990b1bc8df",
        "colab": {
          "base_uri": "https://localhost:8080/"
        }
      },
      "execution_count": 22,
      "outputs": [
        {
          "output_type": "stream",
          "name": "stdout",
          "text": [
            "[[10  0  0]\n",
            " [ 0  8  0]\n",
            " [ 0  1 11]]\n",
            "              precision    recall  f1-score   support\n",
            "\n",
            "           0      1.000     1.000     1.000        10\n",
            "           1      0.889     1.000     0.941         8\n",
            "           2      1.000     0.917     0.957        12\n",
            "\n",
            "    accuracy                          0.967        30\n",
            "   macro avg      0.963     0.972     0.966        30\n",
            "weighted avg      0.970     0.967     0.967        30\n",
            "\n"
          ]
        }
      ]
    },
    {
      "cell_type": "markdown",
      "metadata": {
        "id": "uSZ0QkjZhpKt"
      },
      "source": [
        "**Q4: Part B**\n",
        "\n",
        "Train and evaluate a `linear_model.LogisticRegression`\n",
        "classifier that uses **both** the petal area feature and the sepal area feature.  \n",
        "Guidelines as with the last problem, except you are asked  not to use scikit learn's `PolynomialFeatures`\n",
        "for this one.\n"
      ]
    },
    {
      "cell_type": "code",
      "source": [
        "\n",
        "X_sepalpetal = np.concatenate([petal_area.reshape(-1, 1), sepal_area.reshape(-1, 1)], axis=1)\n",
        "\n",
        "X_train, X_test, y_train, y_test = train_test_split(X_sepalpetal, target, test_size=.2, random_state=69)\n",
        "lin = linear_model.LogisticRegression(C=1e5, solver='liblinear',multi_class='auto')\n",
        "lin.fit(X_train, y_train)\n",
        "predicted = lin.predict(X_test)\n",
        "\n",
        "actual = y_test\n",
        "metrics.precision_score(actual,predicted,average=None)\n",
        "\n",
        "from sklearn import metrics\n",
        "print(metrics.confusion_matrix(actual, predicted))\n",
        "print(metrics.classification_report(actual, predicted, digits=3))"
      ],
      "metadata": {
        "id": "hlLz1cVWa4Hj",
        "outputId": "fe8a6a29-de47-4a84-e180-771083ac8d5f",
        "colab": {
          "base_uri": "https://localhost:8080/"
        }
      },
      "execution_count": 23,
      "outputs": [
        {
          "output_type": "stream",
          "name": "stdout",
          "text": [
            "[[10  0  0]\n",
            " [ 0  8  0]\n",
            " [ 0  0 12]]\n",
            "              precision    recall  f1-score   support\n",
            "\n",
            "           0      1.000     1.000     1.000        10\n",
            "           1      1.000     1.000     1.000         8\n",
            "           2      1.000     1.000     1.000        12\n",
            "\n",
            "    accuracy                          1.000        30\n",
            "   macro avg      1.000     1.000     1.000        30\n",
            "weighted avg      1.000     1.000     1.000        30\n",
            "\n"
          ]
        }
      ]
    },
    {
      "cell_type": "code",
      "source": [
        "# Concatenate petal_area and sepal_area horizontally\n",
        "X_combined = np.concatenate([features[].reshape(-1, 1), sepal_area.reshape(-1, 1)], axis=1)\n",
        "\n",
        "# Train the Logistic Regression model\n",
        "model = LogisticRegression()\n",
        "model.fit(X_train, y_train)\n",
        "\n",
        "# Predictions on the test set\n",
        "y_pred = model.predict(X_test)\n",
        "\n",
        "# Evaluate the classifier\n",
        "precision = metrics.precision_score(y_test, y_pred, average=None)\n",
        "recall = metrics.recall_score(y_test, y_pred, average=None)\n",
        "accuracy = metrics.accuracy_score(y_test, y_pred)\n",
        "\n",
        "print(\"Precision:\", precision)\n",
        "print(\"Recall:\", recall)\n",
        "print(\"Accuracy:\", accuracy)\n",
        "\n",
        "# Print the confusion matrix\n",
        "conf_matrix = metrics.confusion_matrix(y_test, y_pred)\n",
        "print(\"Confusion Matrix:\")\n",
        "print(conf_matrix)\n",
        "\n",
        "# Calculate and print the multilabel confusion matrix\n",
        "multilabel_conf_matrix = metrics.multilabel_confusion_matrix(y_test, y_pred)\n",
        "print(\"Multilabel Confusion Matrix:\")\n",
        "print(multilabel_conf_matrix)"
      ],
      "metadata": {
        "id": "nCDN930ibpO2",
        "outputId": "21620a8d-5e94-4618-fa3a-87574a1bdf51",
        "colab": {
          "base_uri": "https://localhost:8080/"
        }
      },
      "execution_count": 36,
      "outputs": [
        {
          "output_type": "stream",
          "name": "stdout",
          "text": [
            "Precision: [1. 1. 1.]\n",
            "Recall: [1. 1. 1.]\n",
            "Accuracy: 1.0\n",
            "Confusion Matrix:\n",
            "[[10  0  0]\n",
            " [ 0  8  0]\n",
            " [ 0  0 12]]\n",
            "Multilabel Confusion Matrix:\n",
            "[[[20  0]\n",
            "  [ 0 10]]\n",
            "\n",
            " [[22  0]\n",
            "  [ 0  8]]\n",
            "\n",
            " [[18  0]\n",
            "  [ 0 12]]]\n"
          ]
        }
      ]
    },
    {
      "cell_type": "code",
      "source": [
        "feature_names"
      ],
      "metadata": {
        "id": "SdzFDNDrlt6w",
        "outputId": "3bdf7d93-c9bc-45ee-c322-0c738a4449c3",
        "colab": {
          "base_uri": "https://localhost:8080/"
        }
      },
      "execution_count": 45,
      "outputs": [
        {
          "output_type": "execute_result",
          "data": {
            "text/plain": [
              "['sepal length (cm)',\n",
              " 'sepal width (cm)',\n",
              " 'petal length (cm)',\n",
              " 'petal width (cm)']"
            ]
          },
          "metadata": {},
          "execution_count": 45
        }
      ]
    },
    {
      "cell_type": "markdown",
      "metadata": {
        "collapsed": true,
        "id": "IxsPn0GMhpKt"
      },
      "source": [
        "**Q4 Part C**\n",
        "\n",
        "Train and evaluate a `linear_model.LogisticRegression`\n",
        "classifier that uses both  area features **as well as** the original 4 features.\n",
        "That's a 6 feature model, the 4 original features plus two\n",
        "interaction features.  Does this do better than a classifier trained on just the original 4 features?\n",
        "Guidelines as with Part A, except that you are asked noto to use scikit learn's PolynomialFeatures for this one."
      ]
    },
    {
      "cell_type": "code",
      "source": [
        "\n",
        "##add all 4 features\n",
        "\n",
        "X_allsix = np.concatenate([features, X_combined], axis=1)\n",
        "\n",
        "X_train, X_test, y_train, y_test = train_test_split(X_allsix, target, test_size=.2, random_state=69)\n",
        "lin = linear_model.LogisticRegression(C=1e5, solver='liblinear',multi_class='auto')\n",
        "lin.fit(X_train, y_train)\n",
        "predicted = lin.predict(X_test)\n",
        "\n",
        "actual = y_test\n",
        "metrics.precision_score(actual,predicted,average=None)\n",
        "\n",
        "from sklearn import metrics\n",
        "print(metrics.confusion_matrix(actual, predicted))\n",
        "print(metrics.classification_report(actual, predicted, digits=3))"
      ],
      "metadata": {
        "id": "JWUe_uIfbwd9",
        "outputId": "e828e18c-c225-467c-9bbe-4db5dc407e87",
        "colab": {
          "base_uri": "https://localhost:8080/"
        }
      },
      "execution_count": 38,
      "outputs": [
        {
          "output_type": "stream",
          "name": "stdout",
          "text": [
            "[[10  0  0]\n",
            " [ 0  8  0]\n",
            " [ 0  0 12]]\n",
            "              precision    recall  f1-score   support\n",
            "\n",
            "           0      1.000     1.000     1.000        10\n",
            "           1      1.000     1.000     1.000         8\n",
            "           2      1.000     1.000     1.000        12\n",
            "\n",
            "    accuracy                          1.000        30\n",
            "   macro avg      1.000     1.000     1.000        30\n",
            "weighted avg      1.000     1.000     1.000        30\n",
            "\n"
          ]
        }
      ]
    },
    {
      "cell_type": "code",
      "source": [
        "feature_names"
      ],
      "metadata": {
        "id": "Gk8k1I2oiIqH",
        "outputId": "274e68e8-3289-44f8-aae3-f660d4013e7a",
        "colab": {
          "base_uri": "https://localhost:8080/"
        }
      },
      "execution_count": 31,
      "outputs": [
        {
          "output_type": "execute_result",
          "data": {
            "text/plain": [
              "['sepal length (cm)',\n",
              " 'sepal width (cm)',\n",
              " 'petal length (cm)',\n",
              " 'petal width (cm)']"
            ]
          },
          "metadata": {},
          "execution_count": 31
        }
      ]
    },
    {
      "cell_type": "markdown",
      "metadata": {
        "id": "IMv2oQRbhpKu"
      },
      "source": [
        "**Q4 Part D**\n",
        "\n",
        "Train and evaluate a `linear_model.LogisticRegression`\n",
        "classifier that uses a 2-feature PCA representation of the iris data,\n",
        "as was done in Section 7 of the Regression and Classification notebook.\n",
        "Does the PCA classifier do better than the 2-feature classifier\n",
        "models evaluated in Q1 of this assignment?  For\n",
        "this comparison, you should split the data into training and test\n",
        "sets 10 times and average the precision scores, as you\n",
        "did for Q1.\n",
        "\n",
        "The other question that arises is how this\n",
        "2-feature model compares with the 2-feature model\n",
        "you evaluated in Q4 Part B.  That evaluation\n",
        "scheme was slightly different, however,\n",
        "since we didn't do multiple train/test splits.\n",
        "To provide a fair comparison, redo your evaluation\n",
        "of the Part B system using 10 train/test\n",
        "splits and computing the average accuracy.\n"
      ]
    },
    {
      "cell_type": "code",
      "source": [
        "from sklearn.datasets import load_iris\n",
        "import matplotlib.pyplot as plt\n",
        "from sklearn import linear_model\n",
        "from sklearn.svm import LinearSVC\n",
        "\n",
        "#Best 2 features from Q1 are sepal and petal length\n",
        "from sklearn.model_selection import train_test_split\n",
        "\n",
        "c_length = np.concatenate([features[:,0].reshape(-1,1), features[:,2].reshape(-1,1)], axis=1) #first one is sepal length and second is petal length\n",
        "X = c_length\n",
        "def multiple_runs_reducer(X,y,num_runs,reducer):\n",
        "    accs = np.zeros(num_runs)\n",
        "    for i in range(num_runs):\n",
        "        X_train, X_test, y_train, y_test = train_test_split(c_length, target, test_size=.2,random_state=i)\n",
        "        #reducer = dec.PCA(n_components=2)\n",
        "        X_train_reduced = reducer.fit_transform(X_train)\n",
        "        # Use the transform method of the trained reducer on the test data\n",
        "        # No fitting allowed on test data\n",
        "        X_test_reduced = reducer.transform(X_test)\n",
        "        lin = linear_model.LogisticRegression(C=1e5, solver='liblinear',multi_class='auto')\n",
        "        lin.fit(X_train_reduced, y_train)\n",
        "        predicted = lin.predict(X_test_reduced)\n",
        "        acc = accuracy_score(y_test,predicted)\n",
        "        accs[i] = acc\n",
        "        # Evaluate\n",
        "        print(f\"{acc:>6.1%}\")\n",
        "    return accs\n",
        "\n",
        "#get average\n",
        "accs_pca = multiple_runs_reducer(X,y,10,reducer=dec.PCA(n_components=2))\n",
        "#get average of runs\n",
        "average = np.mean(accs_pca)\n",
        "print(f\"Average = {average:.3f}\")"
      ],
      "metadata": {
        "id": "KJR9C7nljMph",
        "outputId": "24d1d77a-e2b7-4f2c-a2e9-30ca97aa16b6",
        "colab": {
          "base_uri": "https://localhost:8080/"
        }
      },
      "execution_count": 75,
      "outputs": [
        {
          "output_type": "stream",
          "name": "stdout",
          "text": [
            " 96.7%\n",
            " 96.7%\n",
            " 96.7%\n",
            " 93.3%\n",
            " 96.7%\n",
            " 93.3%\n",
            " 96.7%\n",
            " 86.7%\n",
            " 96.7%\n",
            "100.0%\n",
            "Average = 0.953\n"
          ]
        }
      ]
    },
    {
      "cell_type": "code",
      "source": [
        "#testing regular regression without PCA for the same ones\n",
        "def multiple_runs(X,y,num_runs):\n",
        "  accs = np.zeros(num_runs)\n",
        "  for i in range(num_runs):\n",
        "\n",
        "    X_train, X_test, y_train, y_test = train_test_split(c_length, target, test_size=.2, random_state=i)\n",
        "    lin = linear_model.LogisticRegression(C=1e5, solver='liblinear',multi_class='auto')\n",
        "    lin.fit(X_train, y_train)\n",
        "    predicted = lin.predict(X_test)\n",
        "    acc = accuracy_score(y_test,predicted)\n",
        "    accs[i] = acc\n",
        "    # Evaluate\n",
        "    print(f\"{accuracy_score(y_test,predicted):>6.1%}\",\n",
        "          )\n",
        "\n",
        "  average_accuracy = np.mean(accs)\n",
        "  print(f\"\\nAverage Accuracy: {average_accuracy:.1%}\")\n",
        "\n",
        "  return accs\n",
        "\n",
        "#get average\n",
        "accs_norm = multiple_runs(X,y,10)\n",
        "\n",
        "\n"
      ],
      "metadata": {
        "id": "-fk4k37UncDN",
        "outputId": "673afcf5-9384-4b5b-e3f4-bedc9809696c",
        "colab": {
          "base_uri": "https://localhost:8080/"
        }
      },
      "execution_count": 83,
      "outputs": [
        {
          "output_type": "stream",
          "name": "stdout",
          "text": [
            " 96.7%\n",
            " 96.7%\n",
            " 96.7%\n",
            " 93.3%\n",
            " 96.7%\n",
            " 93.3%\n",
            " 96.7%\n",
            " 86.7%\n",
            " 96.7%\n",
            "100.0%\n",
            "\n",
            "Average Accuracy: 95.3%\n"
          ]
        }
      ]
    },
    {
      "cell_type": "code",
      "source": [
        "from sklearn.model_selection import train_test_split\n",
        "from sklearn.linear_model import LogisticRegression\n",
        "from sklearn.metrics import accuracy_score\n",
        "import numpy as np\n",
        "\n",
        "# Assuming X and y are your feature matrix and target variable\n",
        "\n",
        "def multiple_runs(X, y, num_runs):\n",
        "    accs = np.zeros(num_runs)\n",
        "    for i in range(num_runs):\n",
        "        X_train, X_test, y_train, y_test = train_test_split(X, y, test_size=0.2, random_state=i)\n",
        "        lin = LogisticRegression(C=1e5, solver='liblinear', multi_class='auto')\n",
        "        lin.fit(X_train, y_train)\n",
        "        predicted = lin.predict(X_test)\n",
        "        acc = accuracy_score(y_test, predicted)\n",
        "        accs[i] = acc\n",
        "        # Evaluate\n",
        "        print(f\"Iteration {i + 1}: Accuracy = {acc:.1%}\")\n",
        "\n",
        "    # Calculate and print the average accuracy\n",
        "    average_accuracy = np.mean(accs)\n",
        "    print(f\"\\nAverage Accuracy: {average_accuracy:.1%}\")\n",
        "\n",
        "    return accs\n",
        "\n",
        "# Example usage\n",
        "num_runs = 10\n",
        "accuracy_scores = multiple_runs(c_length, target, num_runs)"
      ],
      "metadata": {
        "id": "CZaO2vjJq8gp",
        "outputId": "61351a39-0147-4312-efb2-1d9e33523227",
        "colab": {
          "base_uri": "https://localhost:8080/"
        }
      },
      "execution_count": 82,
      "outputs": [
        {
          "output_type": "stream",
          "name": "stdout",
          "text": [
            "Iteration 1: Accuracy = 96.7%\n",
            "Iteration 2: Accuracy = 96.7%\n",
            "Iteration 3: Accuracy = 96.7%\n",
            "Iteration 4: Accuracy = 93.3%\n",
            "Iteration 5: Accuracy = 96.7%\n",
            "Iteration 6: Accuracy = 93.3%\n",
            "Iteration 7: Accuracy = 96.7%\n",
            "Iteration 8: Accuracy = 86.7%\n",
            "Iteration 9: Accuracy = 96.7%\n",
            "Iteration 10: Accuracy = 100.0%\n",
            "\n",
            "Average Accuracy: 95.3%\n"
          ]
        }
      ]
    },
    {
      "cell_type": "code",
      "source": [
        "X = c_length\n",
        "for i in range(10):\n",
        "\n",
        "    X_train, X_test, y_train, y_test = train_test_split(X, y, test_size=.2)\n",
        "    lin = linear_model.LogisticRegression(C=1e5, solver='liblinear',multi_class='auto')\n",
        "    lin.fit(X_train, y_train)\n",
        "    predicted = lin.predict(X_test)\n",
        "    accuracy = accuracy_score(y_test, predicted)\n",
        "    accuracy_scores.append(accuracy)\n",
        "    # Evaluate\n",
        "    print(f\"{accuracy_score(y_test,predicted):>6.1%}\",\n",
        "          )\n",
        "\n",
        "# Calculate and print the average accuracy\n",
        "average_accuracy = np.mean(accuracy_scores)\n",
        "print(f\"\\nAverage Accuracy: {average_accuracy:.1%}\")"
      ],
      "metadata": {
        "id": "79-DquF-qECe",
        "outputId": "0d0c05eb-3b81-47de-aa48-d417f7200775",
        "colab": {
          "base_uri": "https://localhost:8080/",
          "height": 246
        }
      },
      "execution_count": 81,
      "outputs": [
        {
          "output_type": "error",
          "ename": "NameError",
          "evalue": "ignored",
          "traceback": [
            "\u001b[0;31m---------------------------------------------------------------------------\u001b[0m",
            "\u001b[0;31mNameError\u001b[0m                                 Traceback (most recent call last)",
            "\u001b[0;32m<ipython-input-81-43e28ae4f3b5>\u001b[0m in \u001b[0;36m<cell line: 2>\u001b[0;34m()\u001b[0m\n\u001b[1;32m      7\u001b[0m     \u001b[0mpredicted\u001b[0m \u001b[0;34m=\u001b[0m \u001b[0mlin\u001b[0m\u001b[0;34m.\u001b[0m\u001b[0mpredict\u001b[0m\u001b[0;34m(\u001b[0m\u001b[0mX_test\u001b[0m\u001b[0;34m)\u001b[0m\u001b[0;34m\u001b[0m\u001b[0;34m\u001b[0m\u001b[0m\n\u001b[1;32m      8\u001b[0m     \u001b[0maccuracy\u001b[0m \u001b[0;34m=\u001b[0m \u001b[0maccuracy_score\u001b[0m\u001b[0;34m(\u001b[0m\u001b[0my_test\u001b[0m\u001b[0;34m,\u001b[0m \u001b[0mpredicted\u001b[0m\u001b[0;34m)\u001b[0m\u001b[0;34m\u001b[0m\u001b[0;34m\u001b[0m\u001b[0m\n\u001b[0;32m----> 9\u001b[0;31m     \u001b[0maccuracy_scores\u001b[0m\u001b[0;34m.\u001b[0m\u001b[0mappend\u001b[0m\u001b[0;34m(\u001b[0m\u001b[0maccuracy\u001b[0m\u001b[0;34m)\u001b[0m\u001b[0;34m\u001b[0m\u001b[0;34m\u001b[0m\u001b[0m\n\u001b[0m\u001b[1;32m     10\u001b[0m     \u001b[0;31m# Evaluate\u001b[0m\u001b[0;34m\u001b[0m\u001b[0;34m\u001b[0m\u001b[0m\n\u001b[1;32m     11\u001b[0m     print(f\"{accuracy_score(y_test,predicted):>6.1%}\",\n",
            "\u001b[0;31mNameError\u001b[0m: name 'accuracy_scores' is not defined"
          ]
        }
      ]
    },
    {
      "cell_type": "code",
      "source": [
        "feature_names"
      ],
      "metadata": {
        "id": "fxbbYSLnl-69",
        "outputId": "dd7261bd-1cbe-4952-8e19-9940bac12818",
        "colab": {
          "base_uri": "https://localhost:8080/"
        }
      },
      "execution_count": 47,
      "outputs": [
        {
          "output_type": "execute_result",
          "data": {
            "text/plain": [
              "['sepal length (cm)',\n",
              " 'sepal width (cm)',\n",
              " 'petal length (cm)',\n",
              " 'petal width (cm)']"
            ]
          },
          "metadata": {},
          "execution_count": 47
        }
      ]
    },
    {
      "cell_type": "code",
      "source": [
        "features[:,0]"
      ],
      "metadata": {
        "id": "W43nAjndmGrD",
        "outputId": "8ae12a1b-cbde-4632-d262-a13e0e44e606",
        "colab": {
          "base_uri": "https://localhost:8080/"
        }
      },
      "execution_count": 49,
      "outputs": [
        {
          "output_type": "execute_result",
          "data": {
            "text/plain": [
              "array([5.1, 4.9, 4.7, 4.6, 5. , 5.4, 4.6, 5. , 4.4, 4.9, 5.4, 4.8, 4.8,\n",
              "       4.3, 5.8, 5.7, 5.4, 5.1, 5.7, 5.1, 5.4, 5.1, 4.6, 5.1, 4.8, 5. ,\n",
              "       5. , 5.2, 5.2, 4.7, 4.8, 5.4, 5.2, 5.5, 4.9, 5. , 5.5, 4.9, 4.4,\n",
              "       5.1, 5. , 4.5, 4.4, 5. , 5.1, 4.8, 5.1, 4.6, 5.3, 5. , 7. , 6.4,\n",
              "       6.9, 5.5, 6.5, 5.7, 6.3, 4.9, 6.6, 5.2, 5. , 5.9, 6. , 6.1, 5.6,\n",
              "       6.7, 5.6, 5.8, 6.2, 5.6, 5.9, 6.1, 6.3, 6.1, 6.4, 6.6, 6.8, 6.7,\n",
              "       6. , 5.7, 5.5, 5.5, 5.8, 6. , 5.4, 6. , 6.7, 6.3, 5.6, 5.5, 5.5,\n",
              "       6.1, 5.8, 5. , 5.6, 5.7, 5.7, 6.2, 5.1, 5.7, 6.3, 5.8, 7.1, 6.3,\n",
              "       6.5, 7.6, 4.9, 7.3, 6.7, 7.2, 6.5, 6.4, 6.8, 5.7, 5.8, 6.4, 6.5,\n",
              "       7.7, 7.7, 6. , 6.9, 5.6, 7.7, 6.3, 6.7, 7.2, 6.2, 6.1, 6.4, 7.2,\n",
              "       7.4, 7.9, 6.4, 6.3, 6.1, 7.7, 6.3, 6.4, 6. , 6.9, 6.7, 6.9, 5.8,\n",
              "       6.8, 6.7, 6.7, 6.3, 6.5, 6.2, 5.9])"
            ]
          },
          "metadata": {},
          "execution_count": 49
        }
      ]
    },
    {
      "cell_type": "markdown",
      "metadata": {
        "id": "wOkTRzrOhpKu"
      },
      "source": [
        "**Q5**\n",
        "\n",
        "Another day, another model.  This question is completely optional. No\n",
        "extra credit for doing it, just glory.\n",
        "\n",
        "We looked at one nonlinear model with regression (K Nearest Neighbor)\n",
        "and we'll look at one nonlinear model with classification.\n",
        "This one is called a **Gaussian Process Classifier**.\n",
        "This is a probabilistic model that tries to fit a Gaussian\n",
        "mixture, so in our setting, the trained classifier\n",
        "will assign 3 probabilities to each row in the data,\n",
        "one for each class.  "
      ]
    },
    {
      "cell_type": "code",
      "execution_count": null,
      "metadata": {
        "id": "1a6j0ksJhpKu",
        "outputId": "59c84927-4a8f-4935-d33b-c91e3dd5e92f"
      },
      "outputs": [
        {
          "name": "stdout",
          "output_type": "stream",
          "text": [
            "0.9866666666666667\n"
          ]
        }
      ],
      "source": [
        "from sklearn.datasets import load_iris\n",
        "from sklearn.gaussian_process import GaussianProcessClassifier\n",
        "from sklearn.gaussian_process.kernels import RBF\n",
        "newX, y = load_iris(return_X_y=True)\n",
        "\n",
        "kernel = 1.0 * RBF(1.0)\n",
        "gpc = GaussianProcessClassifier(kernel=kernel,\n",
        "                                random_state=0).fit(newX, y)\n",
        "print(gpc.score(newX, y))"
      ]
    },
    {
      "cell_type": "markdown",
      "metadata": {
        "id": "BgIoCCvthpKu"
      },
      "source": [
        "As the code shows, this classifier needs a **kernel**.  For\n",
        "a discussion of kernels and classifiers, see [The SVM Classifier notebook.](https://colab.research.google.com/github/gawron/python-for-social-science/blob/master/text_classification/linear_classifier_svm.ipynb)\n",
        "For more discussion of Gaussian Process Classifiers and a visualization of what they do\n",
        "on the iris data, see [The Plot Gaussian Process notebook.](https://colab.research.google.com/github/gawron/python-for-social-science/blob/master/text_classification/plot_gaussian_process_iris.ipynb)"
      ]
    },
    {
      "cell_type": "markdown",
      "metadata": {
        "id": "ofDlr3MJhpKv"
      },
      "source": [
        "To demonstrate the idea of assigning three probabilities to each row, let's pass the first two rows\n",
        "of the training data to the `predict_proba` method of the trained classifier (only probabilistic classifiers have a `predict_proba` method):"
      ]
    },
    {
      "cell_type": "code",
      "execution_count": null,
      "metadata": {
        "id": "bchCaxzHhpKv",
        "outputId": "382dd224-98f1-4ab9-fda5-7bbf4b305014"
      },
      "outputs": [
        {
          "data": {
            "text/plain": [
              "array([[0.83548752, 0.03228706, 0.13222543],\n",
              "       [0.79064206, 0.06525643, 0.14410151]])"
            ]
          },
          "execution_count": 23,
          "metadata": {},
          "output_type": "execute_result"
        }
      ],
      "source": [
        "prob_array = gpc.predict_proba(newX[:2,:])\n",
        "#array([[0.8354..., 0.03228..., 0.1322...],\n",
        "#       [0.7906..., 0.0652..., 0.1441...]])\n",
        "prob_array"
      ]
    },
    {
      "cell_type": "markdown",
      "metadata": {
        "id": "XoJsMm2_hpKv"
      },
      "source": [
        "We get a 2x3 array.  Row 0 of `prob_array` represents the probabilities for the 3 classes for\n",
        "the iris represented in row 0 of the training data (`newX`).  For example the probability that\n",
        "that iris belongs to class 1  (versicolor) is around `.03`  and the probability that it belongs to\n",
        "class 2 (virginica) is around `.13`.  So the class with the greatest probability is class 0 (setosa),\n",
        "which is actually the  correct class:"
      ]
    },
    {
      "cell_type": "code",
      "execution_count": null,
      "metadata": {
        "id": "OvhYiW0jhpKv",
        "outputId": "86f432ae-214e-4552-91c4-b12391d6e26e"
      },
      "outputs": [
        {
          "name": "stdout",
          "output_type": "stream",
          "text": [
            "['setosa' 'versicolor' 'virginica']\n",
            "0\n"
          ]
        }
      ],
      "source": [
        "print(data['target_names'])\n",
        "print(target[0])"
      ]
    },
    {
      "cell_type": "markdown",
      "metadata": {
        "id": "JezNhvT0hpKw"
      },
      "source": [
        "Of course the classifier also has a `.predict()` method, so we can just get an array of decisions, as with\n",
        "any scikit learn classifier:"
      ]
    },
    {
      "cell_type": "code",
      "execution_count": null,
      "metadata": {
        "id": "5Wi6hu1fhpKw",
        "outputId": "3f1a224f-15da-48b7-ae55-a3b3505e19ae"
      },
      "outputs": [
        {
          "data": {
            "text/plain": [
              "array([0, 0])"
            ]
          },
          "execution_count": 27,
          "metadata": {},
          "output_type": "execute_result"
        }
      ],
      "source": [
        "gpc.predict(newX[:2,:])"
      ]
    },
    {
      "cell_type": "markdown",
      "metadata": {
        "id": "S9TWm0hZhpK2"
      },
      "source": [
        "The default decision rule is to choose the the maximum probability in any row; if we take the max\n",
        "probabilities in each row and look at their mean, it's quite high, meaning\n",
        "the classifier is for the most part pretty confident about its selections, at least for the training data."
      ]
    },
    {
      "cell_type": "code",
      "execution_count": null,
      "metadata": {
        "id": "HDyp94wLhpK2",
        "outputId": "69953a5d-2a86-4a40-fe50-2dc413eff78b"
      },
      "outputs": [
        {
          "data": {
            "text/plain": [
              "0.7568465696129202"
            ]
          },
          "execution_count": 28,
          "metadata": {},
          "output_type": "execute_result"
        }
      ],
      "source": [
        "pc = gpc.predict_proba(newX)\n",
        "pc.max(axis=1).mean()"
      ]
    },
    {
      "cell_type": "markdown",
      "metadata": {
        "id": "lpAKOA1YhpK3"
      },
      "source": [
        "But in at least a few case it is deciding by, in effect, flipping a three-sided coin. The minimally confident training classification is:"
      ]
    },
    {
      "cell_type": "code",
      "execution_count": null,
      "metadata": {
        "id": "laZpel4FhpK3",
        "outputId": "85f9b7cc-ae8f-42d2-ac1f-0b95f76253a5"
      },
      "outputs": [
        {
          "data": {
            "text/plain": [
              "0.4096513245830137"
            ]
          },
          "execution_count": 24,
          "metadata": {},
          "output_type": "execute_result"
        }
      ],
      "source": [
        "pc.max(axis=1).min()"
      ]
    },
    {
      "cell_type": "markdown",
      "metadata": {
        "id": "KPM22TndhpK3"
      },
      "source": [
        "This means that according to the system's own probability model, the max probability guess for this particular iris has a better than even chance of being wrong."
      ]
    },
    {
      "cell_type": "markdown",
      "metadata": {
        "id": "YtMG2Xp1hpK3"
      },
      "source": [
        "A more principled  measure of the classifier's overall fit to the training data is the log marginal likelihood,\n",
        "which is found on the trained kernel.  \n",
        "\n",
        "It is the log of a marginal probability, so higher is better. The actual formula (see the scikit learn docs) is  slightly complicated, partly because the formal definition involves integrals with no closed-form solution,\n",
        "and approximations are used, and partly because the underlying logic of the model is Bayesian, so\n",
        "there is a penalty for \"model complexity\" built into the probability (more complex models are less\n",
        "probable, a form of Occam's razor)."
      ]
    },
    {
      "cell_type": "code",
      "execution_count": null,
      "metadata": {
        "id": "Wfa3oZT3hpK4",
        "outputId": "1c1ba43f-6da5-4252-9328-546dcd40b296"
      },
      "outputs": [
        {
          "data": {
            "text/plain": [
              "-13.73091847787589"
            ]
          },
          "execution_count": 34,
          "metadata": {},
          "output_type": "execute_result"
        }
      ],
      "source": [
        "gpc.log_marginal_likelihood(gpc.kernel_.theta)"
      ]
    },
    {
      "cell_type": "markdown",
      "metadata": {
        "id": "r_cVyhX7hpK4"
      },
      "source": [
        "Converted to a probability this is quite low, but it is associated with the entire data set:"
      ]
    },
    {
      "cell_type": "code",
      "execution_count": null,
      "metadata": {
        "id": "8yCwISJEhpK4",
        "outputId": "6112da0d-2c60-484b-c893-baf152b8f2d2"
      },
      "outputs": [
        {
          "data": {
            "text/plain": [
              "1.0882730478969875e-06"
            ]
          },
          "execution_count": 37,
          "metadata": {},
          "output_type": "execute_result"
        }
      ],
      "source": [
        "np.exp(gpc.log_marginal_likelihood(gpc.kernel_.theta))"
      ]
    },
    {
      "cell_type": "code",
      "execution_count": null,
      "metadata": {
        "id": "VwwW793zhpK4",
        "outputId": "22630397-c190-48e8-f131-2707deeed4cc"
      },
      "outputs": [
        {
          "data": {
            "text/plain": [
              "0.9125253103692804"
            ]
          },
          "execution_count": 46,
          "metadata": {},
          "output_type": "execute_result"
        }
      ],
      "source": [
        "# converted to a per training item prob\n",
        "np.exp(gpc.log_marginal_likelihood(gpc.kernel_.theta))**(1/len(newX))"
      ]
    },
    {
      "cell_type": "markdown",
      "metadata": {
        "id": "CNyhSehThpK4"
      },
      "source": [
        "Your task in this problem is to build a classifer model using the 2-feature representation\n",
        "used in question 4b, and to decide which of two kernels is better, the one used above\n",
        "(Isotropic Area RBF) or a 2D option available for a 2-feature model:  1.0 * RBF([1.0, 1.0]).\n",
        "\n",
        "```python\n",
        "\n",
        "Isotropic Area RBF    1.0 * RBF(1.0)\n",
        "Anisotropic Area RBF  1.0 * RBF([1.0, 1.0])\n",
        "```\n",
        "\n",
        "You should evaluate using accuracy, precision, and recall (with `average=None` as with previous evaluations).\n",
        "You should also compare the log_marginal_likelihood of the two models.\n",
        "\n",
        "Warnings Warning:  You may get warnings when you try this.  They are mostly there\n",
        "to tell you the model is not optimal, and a better model might be lying in wait.  But persevere. You will still get usable results.\n",
        "\n",
        "Extra glory:  Do 10 test runs and compare the two systems for average accuracy, precision, and recall\n",
        "over those 10 runs.  Hint: store your results  in arrays. For an example of how to do this\n",
        "for accuracy have a look at the `multiple_runs(X,y,num_runs)` function defined in Section 7\n",
        "of the Regression and Classification notebook.  The way to get the mean of the numerical values in a\n",
        "1D array `a`  is `a.mean()`.  Note that precision and recall present an extra headache in this\n",
        "multiclass setting, since (unlike accuracy) they will give you three scores for each system run."
      ]
    },
    {
      "cell_type": "code",
      "execution_count": null,
      "metadata": {
        "id": "FIRL1aF9hpK5"
      },
      "outputs": [],
      "source": []
    }
  ],
  "metadata": {
    "kernelspec": {
      "display_name": "Python 3 (ipykernel)",
      "language": "python",
      "name": "python3"
    },
    "language_info": {
      "codemirror_mode": {
        "name": "ipython",
        "version": 3
      },
      "file_extension": ".py",
      "mimetype": "text/x-python",
      "name": "python",
      "nbconvert_exporter": "python",
      "pygments_lexer": "ipython3",
      "version": "3.10.6"
    },
    "toc": {
      "base_numbering": 1,
      "nav_menu": {
        "height": "171px",
        "width": "253px"
      },
      "number_sections": true,
      "sideBar": true,
      "skip_h1_title": false,
      "title_cell": "Table of Contents",
      "title_sidebar": "Contents",
      "toc_cell": false,
      "toc_position": {},
      "toc_section_display": "block",
      "toc_window_display": false
    },
    "colab": {
      "provenance": []
    }
  },
  "nbformat": 4,
  "nbformat_minor": 0
}