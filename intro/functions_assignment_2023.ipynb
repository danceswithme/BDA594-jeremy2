{
  "cells": [
    {
      "cell_type": "markdown",
      "metadata": {
        "id": "l7WRzg7OnXjv"
      },
      "source": [
        "# Functions, types, loops assignment"
      ]
    },
    {
      "cell_type": "markdown",
      "metadata": {
        "id": "IhrOKQzhnXj3"
      },
      "source": [
        "## Exercise 1"
      ]
    },
    {
      "cell_type": "markdown",
      "metadata": {
        "id": "Sd2cVjU8nXj4"
      },
      "source": [
        "Add a line of code that will generate the give output::\n",
        "\n",
        "     In [ ]: a_list = [2,7,8, 19]\n",
        "             a_list[0]\n",
        "     Out [ ]: 2\n",
        "     \n",
        "NOTE: The idea of this kind of exercise is to write a line of code\n",
        "that will produce the given output, 2 in this case.  Your\n",
        "answer goes in the next cell, which is a code cell.  It should this be an\n",
        "expression that operates on `a_list`.  A simple correct answer is:\n",
        "\n",
        "     In [ ]: a_list = [2,7,8, 19]\n",
        "             a_list[0]\n",
        "     Out [ ]: 2\n",
        "     \n",
        "Don't forget to evaluate the cell after you've written in your answer to generate Python's output and check your answer!\n"
      ]
    },
    {
      "cell_type": "code",
      "execution_count": 2,
      "metadata": {
        "id": "lZE0U3-anXj5",
        "outputId": "c7546a18-b051-4daf-b258-5274ecf08fc1",
        "colab": {
          "base_uri": "https://localhost:8080/"
        }
      },
      "outputs": [
        {
          "output_type": "execute_result",
          "data": {
            "text/plain": [
              "2"
            ]
          },
          "metadata": {},
          "execution_count": 2
        }
      ],
      "source": [
        "a_list = [2,7,8, 19]\n",
        "a_list[0]"
      ]
    },
    {
      "cell_type": "markdown",
      "metadata": {
        "id": "7169NAIsnXj8"
      },
      "source": [
        "## Exercise 2"
      ]
    },
    {
      "cell_type": "markdown",
      "metadata": {
        "id": "NaEOyv8nnXj8"
      },
      "source": [
        "  Write a line of code that produces the given output.  Use a splice with a \"steps\" component.\n",
        "   \n",
        "    In [ ]: X = 'abcdefghij'\n",
        "             YOUR CODE HERE\n",
        "    Out [ ]: 'acegi'"
      ]
    },
    {
      "cell_type": "markdown",
      "source": [],
      "metadata": {
        "id": "dCYdXU3HEA2o"
      }
    },
    {
      "cell_type": "code",
      "execution_count": 43,
      "metadata": {
        "id": "ZHUHNkVYnXj9",
        "outputId": "d3ad7793-9baa-4ad5-d221-44d42b5f3d45",
        "colab": {
          "base_uri": "https://localhost:8080/"
        }
      },
      "outputs": [
        {
          "output_type": "stream",
          "name": "stdout",
          "text": [
            "acegi"
          ]
        }
      ],
      "source": [
        "X = 'abcdefghij'\n",
        "L = [0, 2, 4, 6, 8]\n",
        "\n",
        "for y in L:\n",
        "   print(X[y],end=\"\")"
      ]
    },
    {
      "cell_type": "markdown",
      "metadata": {
        "id": "FAWqGztPnXj-"
      },
      "source": [
        "## Exercise 3"
      ]
    },
    {
      "cell_type": "markdown",
      "metadata": {
        "id": "478b14--nXj_"
      },
      "source": [
        " Write a line of code that produces the given output:\n",
        "   \n",
        "     In [ ]: S, T = set('abc'), set('cde')\n",
        "           YOUR CODE HERE\n",
        "     Out [ ]: {'c'}\n",
        "\n",
        "Hint.  Each Python type has its own methods.  For instance, strings have a `.title()` method that capitalizes them.  For this problem use a method that is particular to **sets** on the two sets `S` and `T`.  See the [Set Operations Notebook](https://colab.research.google.com/github/gawron/python-for-social-science/blob/master/intro/set_operations.ipynb) for a discussion of set methods. Also see [Van DerPlas's Whirlwind Tour, Ch. 6.](https://colab.research.google.com/github/jakevdp/WhirlwindTourOfPython/blob/6f1daf714fe52a8dde6a288674ba46a7feed8816/06-Built-in-Data-Structures.ipynb)"
      ]
    },
    {
      "cell_type": "code",
      "execution_count": 46,
      "metadata": {
        "id": "R4VrBzgRnXkA"
      },
      "outputs": [],
      "source": [
        "S, T = set('abc'), set('cde')"
      ]
    },
    {
      "cell_type": "code",
      "execution_count": 51,
      "metadata": {
        "id": "vu4Ry_oCnXkE",
        "outputId": "a72dc02b-fa39-49ea-c2e6-2aea0577bc66",
        "colab": {
          "base_uri": "https://localhost:8080/"
        }
      },
      "outputs": [
        {
          "output_type": "stream",
          "name": "stdout",
          "text": [
            "{'c'}\n"
          ]
        }
      ],
      "source": [
        "U = S & T\n",
        "print(U)"
      ]
    },
    {
      "cell_type": "code",
      "execution_count": 52,
      "metadata": {
        "id": "kU3ntnP-nXkE",
        "outputId": "27416c6f-f3a0-434a-d051-e9f3b8c84ce5",
        "colab": {
          "base_uri": "https://localhost:8080/"
        }
      },
      "outputs": [
        {
          "output_type": "execute_result",
          "data": {
            "text/plain": [
              "{'c', 'd', 'e'}"
            ]
          },
          "metadata": {},
          "execution_count": 52
        }
      ],
      "source": [
        "T"
      ]
    },
    {
      "cell_type": "markdown",
      "metadata": {
        "id": "hQYqR06ynXkF"
      },
      "source": [
        "## Exercise 4"
      ]
    },
    {
      "cell_type": "markdown",
      "metadata": {
        "id": "I6QkAmsgnXkF"
      },
      "source": [
        " Write a line of code that produces the given output:\n",
        "   \n",
        "     In [ ]: a_list = [2,7,8, 19]\n",
        "           YOUR CODE HERE\n",
        "     Out [ ]: [22,27,28,39]\n",
        "    \n",
        "Hint: Try a list comprehension. Look at [Whirlwind Tour](https://colab.research.google.com/github/jakevdp/WhirlwindTourOfPython/blob/6f1daf714fe52a8dde6a288674ba46a7feed8816/11-List-Comprehensions.ipynb) for a quick review of list comprehensions."
      ]
    },
    {
      "cell_type": "code",
      "execution_count": 62,
      "metadata": {
        "id": "Iz9BpBrtnXkF",
        "outputId": "6af1667e-3131-45fc-a349-2f68c383d489",
        "colab": {
          "base_uri": "https://localhost:8080/"
        }
      },
      "outputs": [
        {
          "output_type": "execute_result",
          "data": {
            "text/plain": [
              "[22, 27, 28, 39]"
            ]
          },
          "metadata": {},
          "execution_count": 62
        }
      ],
      "source": [
        "a_list = [2,7,8, 19]\n",
        "## Your code below this line\n",
        "[x+20 for x in a_list]"
      ]
    },
    {
      "cell_type": "markdown",
      "metadata": {
        "id": "mk8ewKB4nXkG"
      },
      "source": [
        "## Exercise 5"
      ]
    },
    {
      "cell_type": "markdown",
      "metadata": {
        "id": "QHsqWD-CnXkG"
      },
      "source": [
        "Write a line of code that produces the given output.\n",
        "\n",
        "Hint Remember that list comprehensions can also be used as filters. Look at [Whirlwind Tour](https://colab.research.google.com/github/jakevdp/WhirlwindTourOfPython/blob/6f1daf714fe52a8dde6a288674ba46a7feed8816/11-List-Comprehensions.ipynb) for a quick review of list comprehensions.\n",
        "\n",
        "```\n",
        "In [ ]: a_list = [2,7,8, 19]\n",
        "In [ ]: # Your code           \n",
        "Out [ ]: [22,27]\n",
        " ```"
      ]
    },
    {
      "cell_type": "code",
      "execution_count": 83,
      "metadata": {
        "id": "IvZ98pKJnXkG",
        "outputId": "5fb5ca6b-a59f-4308-d41e-27280ff84514",
        "colab": {
          "base_uri": "https://localhost:8080/"
        }
      },
      "outputs": [
        {
          "output_type": "execute_result",
          "data": {
            "text/plain": [
              "[22, 27]"
            ]
          },
          "metadata": {},
          "execution_count": 83
        }
      ],
      "source": [
        "# YOUR CODE GOES UNDER HERE\n",
        "a_list = [2,7,8, 19]\n",
        "a_list = [2,7,8, 19]\n",
        "## Your code below this line\n",
        "[x+20 for x in a_list if x < 8]"
      ]
    },
    {
      "cell_type": "markdown",
      "metadata": {
        "id": "bb5RnmQinXkG"
      },
      "source": [
        "## Exercise 6"
      ]
    },
    {
      "cell_type": "markdown",
      "metadata": {
        "id": "myGNIQ6InXkG"
      },
      "source": [
        "Write a function that finds all the consonants in a string.  As a help, the list of vowels is given below. You can assume that any character in a word that is not a vowel is a consonant.  The beginning\n",
        "of the function definition has been given with a `pass` as the body.  \n",
        "\n",
        "It should work as in the following examples.\n",
        "\n",
        "```\n",
        ">>> find_consonants('baker')\n",
        "'bkr'\n",
        ">>> find_consonants('abracadabra')\n",
        "'brcdbr'\n",
        ">>> find_consonants('mississippi is the place for me')\n",
        "'mssssppsthplcfrm'\n",
        "```\n",
        "\n",
        "Be aware that you will have to edit the argument/parameter list of the function\n",
        "as well as the body (the part in parens after the name).\n",
        "Replace the `pass` with the correct definition of the function.\n",
        "\n",
        "For those interested in more of a challenge, you may add 'sometimes y' to the list of vowels. The letter `'y'` is a vowel in \"Mary\" and \"Plymouth\" and \"play\", but not in \"youth\"."
      ]
    },
    {
      "cell_type": "code",
      "execution_count": 211,
      "metadata": {
        "id": "sGb_Kf_EnXkH"
      },
      "outputs": [],
      "source": [
        "vowels = 'aeiou'\n",
        "\n"
      ]
    },
    {
      "cell_type": "code",
      "execution_count": 155,
      "metadata": {
        "id": "vK4Y3OASnXkH",
        "outputId": "179fe73c-6629-4348-9b7b-3231e18e2a3d",
        "colab": {
          "base_uri": "https://localhost:8080/"
        }
      },
      "outputs": [
        {
          "output_type": "execute_result",
          "data": {
            "text/plain": [
              "['a', 'e']"
            ]
          },
          "metadata": {},
          "execution_count": 155
        }
      ],
      "source": [
        "#  STEP BY STEP SOLUTION\n",
        "# Write a list comprehension that removes the non vowels in a string S\n",
        "vowels = 'aeiou'\n",
        "X = 'baker'\n",
        "   # Your list comprehension goes in the square brackets\n",
        "L = [c for c in X if c not in vowels]\n",
        "L"
      ]
    },
    {
      "cell_type": "code",
      "execution_count": 156,
      "metadata": {
        "id": "eEujLLYSnXkH",
        "outputId": "0bcdd983-d29b-4536-bfad-f8b23e891cf4",
        "colab": {
          "base_uri": "https://localhost:8080/",
          "height": 35
        }
      },
      "outputs": [
        {
          "output_type": "execute_result",
          "data": {
            "text/plain": [
              "'ae'"
            ],
            "application/vnd.google.colaboratory.intrinsic+json": {
              "type": "string"
            }
          },
          "metadata": {},
          "execution_count": 156
        }
      ],
      "source": [
        "# Turn L into a string using the .join()  method on strings\n",
        "''.join(L)\n"
      ]
    },
    {
      "cell_type": "code",
      "execution_count": 182,
      "metadata": {
        "id": "kuTZjedRnXkI"
      },
      "outputs": [],
      "source": [
        "#  Wrap this code in a function definition. making sure\n",
        "#  to choose a parameter name consistent with\n",
        "#  the name in your code and making sure to include a return statement\n",
        "\n",
        "vowels = 'aeiou'\n",
        "\n",
        "def find_consonants(X):  # Paramater name in parens\n",
        "    vowels = 'aeiou'\n",
        "\n",
        "       # Your list comprehension goes in the square brackets\n",
        "    L = [c for c in X if c not in vowels]   # Your list comprehension goes in the square brackets\n",
        "    L = ''.join(L)\n",
        "    #  Put the list comprehension you wrote above here.\n",
        "    return L  #  Need to put something here.  Look at the directions which show what the function SHOULD return\n",
        ""
      ]
    },
    {
      "cell_type": "code",
      "execution_count": 183,
      "metadata": {
        "id": "1wTYxAIZnXkI",
        "outputId": "a90d392e-fa47-4c30-c983-711cea23702a",
        "colab": {
          "base_uri": "https://localhost:8080/",
          "height": 35
        }
      },
      "outputs": [
        {
          "output_type": "execute_result",
          "data": {
            "text/plain": [
              "'bkr'"
            ],
            "application/vnd.google.colaboratory.intrinsic+json": {
              "type": "string"
            }
          },
          "metadata": {},
          "execution_count": 183
        }
      ],
      "source": [
        "## test  ALL the examples in the directions.  They each have a purpose.\n",
        "find_consonants('baker')\n"
      ]
    },
    {
      "cell_type": "code",
      "execution_count": 184,
      "metadata": {
        "id": "vQQbnQtDnXkI",
        "outputId": "e43978fc-e408-4e1e-b746-9336ea9d2f6a",
        "colab": {
          "base_uri": "https://localhost:8080/",
          "height": 35
        }
      },
      "outputs": [
        {
          "output_type": "execute_result",
          "data": {
            "text/plain": [
              "'brcdbr'"
            ],
            "application/vnd.google.colaboratory.intrinsic+json": {
              "type": "string"
            }
          },
          "metadata": {},
          "execution_count": 184
        }
      ],
      "source": [
        "find_consonants('abracadabra')"
      ]
    },
    {
      "cell_type": "code",
      "execution_count": 186,
      "metadata": {
        "id": "erlqmFwLnXkJ",
        "outputId": "ee9337ba-93a5-4634-a69f-dda83b564290",
        "colab": {
          "base_uri": "https://localhost:8080/",
          "height": 35
        }
      },
      "outputs": [
        {
          "output_type": "execute_result",
          "data": {
            "text/plain": [
              "'msssspp s th plc fr m'"
            ],
            "application/vnd.google.colaboratory.intrinsic+json": {
              "type": "string"
            }
          },
          "metadata": {},
          "execution_count": 186
        }
      ],
      "source": [
        "find_consonants('mississippi is the place for me')"
      ]
    },
    {
      "cell_type": "markdown",
      "metadata": {
        "id": "QPkxtpkLnXkJ"
      },
      "source": [
        "Last example doesn't work as advertised.  Diagnosis: we should\n",
        "remove spaces along with consonants.  Keep the good ideas\n",
        "we've used so far.  Redefine what we omit. New version."
      ]
    },
    {
      "cell_type": "code",
      "execution_count": 187,
      "metadata": {
        "id": "w0AhzURAnXkJ"
      },
      "outputs": [],
      "source": [
        "omit = vowels + ' '\n",
        "def find_consonants(X):\n",
        "    L = [let for let in X if let not in omit]\n",
        "    return ''.join(L)"
      ]
    },
    {
      "cell_type": "code",
      "execution_count": 188,
      "metadata": {
        "id": "rHgGZRw3nXkJ",
        "outputId": "c914b108-88cf-4783-ad8f-cde9ca4f377f",
        "colab": {
          "base_uri": "https://localhost:8080/",
          "height": 35
        }
      },
      "outputs": [
        {
          "output_type": "execute_result",
          "data": {
            "text/plain": [
              "'mssssppsthplcfrm'"
            ],
            "application/vnd.google.colaboratory.intrinsic+json": {
              "type": "string"
            }
          },
          "metadata": {},
          "execution_count": 188
        }
      ],
      "source": [
        "find_consonants('mississippi is the place for me')"
      ]
    },
    {
      "cell_type": "markdown",
      "metadata": {
        "id": "G4sxYxDhnXkK"
      },
      "source": [
        "## Exercise 7"
      ]
    },
    {
      "cell_type": "markdown",
      "metadata": {
        "id": "jdaPaDp6nXkK"
      },
      "source": [
        " Write a line of code that operates on `XX` and produces the given output:\n",
        "   \n",
        "     In [ ]: XX = 'bad good sad happy'\n",
        "           YOUR CODE HERE\n",
        "     Out [ ]: [True, False, True, False]\n",
        "  \n",
        " Hint:  Try a list comprehension that collects\n",
        "  a list of the results of a Boolean test.  But remember that the elements of a string\n",
        "  are characters.  You can turn `XX` into a list of length 4 with a simple operation\n",
        "  discussed in the python_types_nb.\n"
      ]
    },
    {
      "cell_type": "code",
      "execution_count": 233,
      "metadata": {
        "id": "pgacPrVlnXkK",
        "outputId": "127ab528-0c64-4bbe-eded-6125a554f87b",
        "colab": {
          "base_uri": "https://localhost:8080/"
        }
      },
      "outputs": [
        {
          "output_type": "stream",
          "name": "stdout",
          "text": [
            "[True, False, True, False]\n"
          ]
        }
      ],
      "source": [
        "XX = 'bad good sad happy'\n",
        "# Your code here\n",
        "XX = XX.split()\n",
        "Y = ['bad', 'sad']\n",
        "##Z = [i for i in XX\n",
        "     ##if any(p in i for p in Y)]\n",
        "Z = [x in Y for x in XX]\n",
        "print(Z)"
      ]
    },
    {
      "cell_type": "markdown",
      "metadata": {
        "id": "YZUUoEA6nXkK"
      },
      "source": [
        "## Exercise 8"
      ]
    },
    {
      "cell_type": "markdown",
      "metadata": {
        "id": "ZZPUGRxHnXkK"
      },
      "source": [
        "You're having a big party.\n",
        "\n",
        "The guests will be boys and girls.   The lists are defined for you in the next cell.\n",
        "There should be 24 pairings since the pairing ('Huey', 'Susan') should count\n",
        "as the same dance partnership as ('Susan','Huey').\n",
        "\n",
        "You want to make sure there are enough dance partners and that they are all compatible.  Write a single list comprehension that will compute every possible pairing of a boy with a girl.  \n",
        "\n",
        "Hint:\n",
        "The list built by the list comprehension will be a list of tuples of length 2."
      ]
    },
    {
      "cell_type": "code",
      "source": [
        "boys = 'Huey Fred Jason Ed Albert Louie'.split()\n",
        "girls = 'Susan Paula Barbara Felicia'.split()\n",
        "[(x,y) for x in boys for y in girls]\n"
      ],
      "metadata": {
        "id": "s_W4pn497L5m",
        "outputId": "c27cb4ee-301d-42fd-a19e-501b69d9625c",
        "colab": {
          "base_uri": "https://localhost:8080/"
        }
      },
      "execution_count": 246,
      "outputs": [
        {
          "output_type": "execute_result",
          "data": {
            "text/plain": [
              "[('Huey', 'Susan'),\n",
              " ('Huey', 'Paula'),\n",
              " ('Huey', 'Barbara'),\n",
              " ('Huey', 'Felicia'),\n",
              " ('Fred', 'Susan'),\n",
              " ('Fred', 'Paula'),\n",
              " ('Fred', 'Barbara'),\n",
              " ('Fred', 'Felicia'),\n",
              " ('Jason', 'Susan'),\n",
              " ('Jason', 'Paula'),\n",
              " ('Jason', 'Barbara'),\n",
              " ('Jason', 'Felicia'),\n",
              " ('Ed', 'Susan'),\n",
              " ('Ed', 'Paula'),\n",
              " ('Ed', 'Barbara'),\n",
              " ('Ed', 'Felicia'),\n",
              " ('Albert', 'Susan'),\n",
              " ('Albert', 'Paula'),\n",
              " ('Albert', 'Barbara'),\n",
              " ('Albert', 'Felicia'),\n",
              " ('Louie', 'Susan'),\n",
              " ('Louie', 'Paula'),\n",
              " ('Louie', 'Barbara'),\n",
              " ('Louie', 'Felicia')]"
            ]
          },
          "metadata": {},
          "execution_count": 246
        }
      ]
    },
    {
      "cell_type": "markdown",
      "metadata": {
        "id": "Ft_3zhW-nXkL"
      },
      "source": [
        "## Exercise 9"
      ]
    },
    {
      "cell_type": "markdown",
      "metadata": {
        "id": "eJWs-NNOnXkL"
      },
      "source": [
        "You suddenly remember that boys don't always dance with girls and girls don't always dance with boys.\n",
        "And there are people who are neither who are also guests at the party.  You compile a list of neithers.  \n",
        "\n",
        "Using the `boys` and `girls` lists from the last problem and the `neither` list below,\n",
        "write another list comprehension that finds **all** the possible dance partners, that is\n",
        "every pair of guests at the party, regardless of whether they are boys or girls or neither.\n",
        "But remember: people can't dance with themselves (at least not for the dances that will be\n",
        "played at this party).\n",
        "\n",
        "If your final list has 169 members, people are dancing with themselves.\n",
        "\n",
        "If your final list has 156 members, it's because you have both ('Huey', 'Fred') and ('Fred', 'Huey') as possible dance partners. This is a bug.  They are just one happy couple.\n",
        "One way to fix this is do a set comprehension but then the final set you collect can't\n",
        "just be a set of two-member tuples or you'll still have 156 of them.\n",
        "\n",
        "Super geeky glitch note.  If you're going to use sets, be aware that Python sets can't have sets as members,\n",
        "so you can't just produce a set of two-member sets (What?  Why!  That's kind of a long story.)  What you want is `frozenset`: so `frozenset(['a', 'b'])` will produce a frozenset of size 2, and sets can have frozensets\n",
        "as members.\n",
        "\n",
        "Another way to fix this is with `enumerate` as shown in the function-nb notebook.\n",
        "\n",
        "The correct answer has 78 dance couples."
      ]
    },
    {
      "cell_type": "code",
      "source": [
        "neither = 'Lee Sam Kim'.split()\n",
        "# Your code here\n",
        "boys = 'Huey Fred Jason Ed Albert Louie'.split()\n",
        "girls = 'Susan Paula Barbara Felicia'.split()\n",
        "pool = boys + girls + neither\n",
        "def comb2(s):\n",
        "    for i, v1 in enumerate(s):\n",
        "        for j in range(i+1, len(s)):\n",
        "            yield [v1, s[j]]\n",
        "\n",
        "print(*(comb2(list(pool))))\n",
        ""
      ],
      "metadata": {
        "id": "B-b40dwe-b5g",
        "outputId": "5d4eeb10-f15f-4eab-94fe-18c5cb527bd0",
        "colab": {
          "base_uri": "https://localhost:8080/"
        }
      },
      "execution_count": 277,
      "outputs": [
        {
          "output_type": "stream",
          "name": "stdout",
          "text": [
            "['Huey', 'Fred'] ['Huey', 'Jason'] ['Huey', 'Ed'] ['Huey', 'Albert'] ['Huey', 'Louie'] ['Huey', 'Susan'] ['Huey', 'Paula'] ['Huey', 'Barbara'] ['Huey', 'Felicia'] ['Huey', 'Lee'] ['Huey', 'Sam'] ['Huey', 'Kim'] ['Fred', 'Jason'] ['Fred', 'Ed'] ['Fred', 'Albert'] ['Fred', 'Louie'] ['Fred', 'Susan'] ['Fred', 'Paula'] ['Fred', 'Barbara'] ['Fred', 'Felicia'] ['Fred', 'Lee'] ['Fred', 'Sam'] ['Fred', 'Kim'] ['Jason', 'Ed'] ['Jason', 'Albert'] ['Jason', 'Louie'] ['Jason', 'Susan'] ['Jason', 'Paula'] ['Jason', 'Barbara'] ['Jason', 'Felicia'] ['Jason', 'Lee'] ['Jason', 'Sam'] ['Jason', 'Kim'] ['Ed', 'Albert'] ['Ed', 'Louie'] ['Ed', 'Susan'] ['Ed', 'Paula'] ['Ed', 'Barbara'] ['Ed', 'Felicia'] ['Ed', 'Lee'] ['Ed', 'Sam'] ['Ed', 'Kim'] ['Albert', 'Louie'] ['Albert', 'Susan'] ['Albert', 'Paula'] ['Albert', 'Barbara'] ['Albert', 'Felicia'] ['Albert', 'Lee'] ['Albert', 'Sam'] ['Albert', 'Kim'] ['Louie', 'Susan'] ['Louie', 'Paula'] ['Louie', 'Barbara'] ['Louie', 'Felicia'] ['Louie', 'Lee'] ['Louie', 'Sam'] ['Louie', 'Kim'] ['Susan', 'Paula'] ['Susan', 'Barbara'] ['Susan', 'Felicia'] ['Susan', 'Lee'] ['Susan', 'Sam'] ['Susan', 'Kim'] ['Paula', 'Barbara'] ['Paula', 'Felicia'] ['Paula', 'Lee'] ['Paula', 'Sam'] ['Paula', 'Kim'] ['Barbara', 'Felicia'] ['Barbara', 'Lee'] ['Barbara', 'Sam'] ['Barbara', 'Kim'] ['Felicia', 'Lee'] ['Felicia', 'Sam'] ['Felicia', 'Kim'] ['Lee', 'Sam'] ['Lee', 'Kim'] ['Sam', 'Kim']\n"
          ]
        }
      ]
    },
    {
      "cell_type": "markdown",
      "metadata": {
        "id": "VCE_MOYlnXkV"
      },
      "source": [
        "There is another simpler way to solve the problem we just solved, which is not quite as\n",
        "useful as a programming exercise, which is to use the `itertools` module.    Please don't\n",
        "do this.  It's not nearly as educational.\n",
        "\n",
        "It will be helpful to review our discussion of Counters in the book draft section on dictionaries.\n",
        "It will also be helpful to read the [Python docs](http://docs.python.org/2/library/collections.html)  to find a convenient method that finds the element in a counter with the highest count."
      ]
    },
    {
      "cell_type": "code",
      "execution_count": 247,
      "metadata": {
        "id": "p_kWKRe0nXkW"
      },
      "outputs": [],
      "source": [
        " def remainder_one (dividend, divisor=3):\n",
        "    return"
      ]
    },
    {
      "cell_type": "markdown",
      "metadata": {
        "id": "xeAxDudanXkW"
      },
      "source": [
        "## Exercise 10"
      ]
    },
    {
      "cell_type": "markdown",
      "metadata": {
        "id": "M08W-L8_nXkW"
      },
      "source": [
        "Write a function that converts temperatures (as\n",
        "numbers) from Fahrenheit to Celsius scale. The temperature should be\n",
        "optional and its default value should be 32.  Here are some examples showing\n",
        "how you **call** the `fahrenheit-to_celsius` function and what it returns:\n",
        "\n",
        "```\n",
        "    In [ ]:  fahrenheit_to_celsius(212)\n",
        "    Out [ ]: 100\n",
        "    In [ ]: fahrenheit_to_celsius(-40)\n",
        "    Out [ ]: -40.0\n",
        "    In [ ]:  fahrenheit_to_celsius(32)\n",
        "    Out [ ]: 0\n",
        "    In [ ]:  fahrenheit_to_celsius()\n",
        "    Out [ ]: 0    \n",
        "```\n",
        "\n",
        "Please include a cell printing out your validation tests to show you have checked your work (which of course you **always** do).   \n",
        "To create new cells to demonstrate all the examples, you hold down the `[Control]` key while pressing `M` and then typing `b` (for \"below\").\n"
      ]
    },
    {
      "cell_type": "code",
      "execution_count": 345,
      "metadata": {
        "id": "AO6o7LqBnXkW"
      },
      "outputs": [],
      "source": [
        "def fahrenheit_to_celsius(f=32):\n",
        "    #return [your answer goes here]\n",
        "      celsius = float(f - 32) * (5/9)\n",
        "      return celsius"
      ]
    },
    {
      "cell_type": "code",
      "source": [
        "fahrenheit_to_celsius(212)"
      ],
      "metadata": {
        "id": "iF1YQyNmB4uo",
        "outputId": "55cf6794-a52d-4d88-b919-04c12672ccb3",
        "colab": {
          "base_uri": "https://localhost:8080/"
        }
      },
      "execution_count": 338,
      "outputs": [
        {
          "output_type": "execute_result",
          "data": {
            "text/plain": [
              "100.0"
            ]
          },
          "metadata": {},
          "execution_count": 338
        }
      ]
    },
    {
      "cell_type": "code",
      "source": [
        "fahrenheit_to_celsius(-40)"
      ],
      "metadata": {
        "id": "6MrxENkhCGhg",
        "outputId": "1028cc54-3fb8-4c67-e377-76df08b3846c",
        "colab": {
          "base_uri": "https://localhost:8080/"
        }
      },
      "execution_count": 339,
      "outputs": [
        {
          "output_type": "execute_result",
          "data": {
            "text/plain": [
              "-40.0"
            ]
          },
          "metadata": {},
          "execution_count": 339
        }
      ]
    },
    {
      "cell_type": "code",
      "source": [
        "fahrenheit_to_celsius(32)"
      ],
      "metadata": {
        "id": "lPLAhcr3CHIs",
        "outputId": "acf0aa11-1726-4451-e2f3-e20129851422",
        "colab": {
          "base_uri": "https://localhost:8080/"
        }
      },
      "execution_count": 340,
      "outputs": [
        {
          "output_type": "execute_result",
          "data": {
            "text/plain": [
              "0.0"
            ]
          },
          "metadata": {},
          "execution_count": 340
        }
      ]
    },
    {
      "cell_type": "code",
      "source": [
        "fahrenheit_to_celsius()"
      ],
      "metadata": {
        "id": "QTzYjNYsCIV6",
        "outputId": "7e0868e9-15bd-4cff-e75d-30e6e5f15757",
        "colab": {
          "base_uri": "https://localhost:8080/"
        }
      },
      "execution_count": 341,
      "outputs": [
        {
          "output_type": "execute_result",
          "data": {
            "text/plain": [
              "0.0"
            ]
          },
          "metadata": {},
          "execution_count": 341
        }
      ]
    },
    {
      "cell_type": "markdown",
      "metadata": {
        "id": "Cz0vuv9xnXkX"
      },
      "source": [
        "## Exercise 11"
      ]
    },
    {
      "cell_type": "markdown",
      "metadata": {
        "id": "gWVSGfUznXkX"
      },
      "source": [
        "Write a function that can compute the difference between two temperatures.  Assume the\n",
        "input temperatures are Fahrenheit and the output temperatures are Celsius. You should take the differences in Celsus, as shown in the examples below.   Your\n",
        "definition should **call** the `fahrenheit_to_celsius`  function you defined in the previous problem, so **don't** just copy and paste the code from thefunction body.  Assume the first argument is obligatory and then the second argument is optional.  When the second argument is omitted, just return the result of converting the first argument to Celsius.\n",
        "Show that you have checked your work, using all of the following examples.\n",
        "\n",
        "Here is how the function should work:\n",
        "\n",
        "```\n",
        "    In [ ]:  fahrenheit_to_celsius_diff(212,32)\n",
        "    Out [ ]: 100\n",
        "    In [ ]: fahrenheit_to_celsius_diff(-40, 212)\n",
        "    Out [ ]: -140.0\n",
        "    In [ ]:  fahrenheit_to_celsius_diff(212)\n",
        "    Out [ ]: 100\n",
        "    In [ ]:  fahrenheit_to_celsius_diff(212, 0)\n",
        "    Out [ ]: 117.78\n",
        "\n",
        "```\n"
      ]
    },
    {
      "cell_type": "code",
      "execution_count": 342,
      "metadata": {
        "scrolled": true,
        "id": "XzFum4p5nXkY"
      },
      "outputs": [],
      "source": [
        "\n",
        "def fahrenheit_to_celsius_diff(f1=32, f2=32):\n",
        "    # Put the entire function definition here.\n",
        "  celsiusdiff = fahrenheit_to_celsius(f1) - fahrenheit_to_celsius(f2)\n",
        "  return celsiusdiff"
      ]
    },
    {
      "cell_type": "code",
      "source": [
        "fahrenheit_to_celsius_diff(212,32)"
      ],
      "metadata": {
        "id": "1ryAbBI7F-Zh",
        "outputId": "e086a8fe-df80-4414-85ab-c9daaab581e7",
        "colab": {
          "base_uri": "https://localhost:8080/"
        }
      },
      "execution_count": 343,
      "outputs": [
        {
          "output_type": "execute_result",
          "data": {
            "text/plain": [
              "100.0"
            ]
          },
          "metadata": {},
          "execution_count": 343
        }
      ]
    },
    {
      "cell_type": "code",
      "source": [
        "fahrenheit_to_celsius_diff(-40, 212)"
      ],
      "metadata": {
        "id": "0DvOJkSiGCLT",
        "outputId": "7415f6c3-f328-4ce8-f5b8-3f89515b072e",
        "colab": {
          "base_uri": "https://localhost:8080/"
        }
      },
      "execution_count": 344,
      "outputs": [
        {
          "output_type": "execute_result",
          "data": {
            "text/plain": [
              "-140.0"
            ]
          },
          "metadata": {},
          "execution_count": 344
        }
      ]
    },
    {
      "cell_type": "code",
      "source": [
        "fahrenheit_to_celsius_diff(212)"
      ],
      "metadata": {
        "id": "T0LxBl6pGI1R",
        "outputId": "72fed93d-c51f-46af-be78-c25b13c4a552",
        "colab": {
          "base_uri": "https://localhost:8080/"
        }
      },
      "execution_count": 346,
      "outputs": [
        {
          "output_type": "execute_result",
          "data": {
            "text/plain": [
              "100.0"
            ]
          },
          "metadata": {},
          "execution_count": 346
        }
      ]
    },
    {
      "cell_type": "code",
      "source": [
        "fahrenheit_to_celsius_diff(212, 0)"
      ],
      "metadata": {
        "id": "-JTYzluxGKB4",
        "outputId": "bf196fea-9b9d-45fe-e22b-ccf5d028ff8c",
        "colab": {
          "base_uri": "https://localhost:8080/"
        }
      },
      "execution_count": 347,
      "outputs": [
        {
          "output_type": "execute_result",
          "data": {
            "text/plain": [
              "117.77777777777777"
            ]
          },
          "metadata": {},
          "execution_count": 347
        }
      ]
    }
  ],
  "metadata": {
    "kernelspec": {
      "display_name": "Python 3 (ipykernel)",
      "language": "python",
      "name": "python3"
    },
    "language_info": {
      "codemirror_mode": {
        "name": "ipython",
        "version": 3
      },
      "file_extension": ".py",
      "mimetype": "text/x-python",
      "name": "python",
      "nbconvert_exporter": "python",
      "pygments_lexer": "ipython3",
      "version": "3.10.6"
    },
    "toc": {
      "base_numbering": 1,
      "nav_menu": {
        "height": "310px",
        "width": "252px"
      },
      "number_sections": true,
      "sideBar": true,
      "skip_h1_title": false,
      "title_cell": "Table of Contents",
      "title_sidebar": "Contents",
      "toc_cell": false,
      "toc_position": {},
      "toc_section_display": "block",
      "toc_window_display": false
    },
    "colab": {
      "provenance": []
    }
  },
  "nbformat": 4,
  "nbformat_minor": 0
}