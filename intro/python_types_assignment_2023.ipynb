{
  "cells": [
    {
      "cell_type": "markdown",
      "metadata": {
        "id": "ZIBX7u_RW74U"
      },
      "source": [
        "# Python Types Assignment 2023"
      ]
    },
    {
      "cell_type": "markdown",
      "metadata": {
        "id": "nIt_8QZrW74V"
      },
      "source": [
        "Name/RedID:Jeremy Dang/131177953"
      ]
    },
    {
      "cell_type": "code",
      "execution_count": null,
      "metadata": {
        "id": "m6Tl0WtJHSCd"
      },
      "outputs": [],
      "source": []
    },
    {
      "cell_type": "markdown",
      "metadata": {
        "id": "Aa5XjhK9HSCd"
      },
      "source": [
        "General Directions.  First double click on the cell above labeled `Name/RedID` and enter that information.  Then complete the assignment below, answering the questions by writing Python expressions in the code cells provided.  In all cases, check your answers by executing the code cell to verify that the output is appropriate.  In some cases you may have to create code or text (**markup**) cells of your own to provide an answer.  Please be sure you know how to do this (read the [Jupyter Notebook](https://www.dataquest.io/blog/jupyter-notebook-tutorial/) or [Google Colab](https://colab.research.google.com/notebooks/basic_features_overview.ipynb) docs) as it will be a regular part of assignments and exams.\n",
        "\n",
        "After you have completed the assignment to your satisfaction, you can download the notebook to your machine as a Notebook file (extension `.ipynb`) **and** as a Python file (extension `.py`).  The notebook file is for your own use\n",
        "for review and revision.  The Python file is what you will submit on Canvas to receive credit for this assignment. You should keep copies of both and update both if needed.  Despite the weird extension, the Python (.py) file is just a text file and you can look at it using any text editor or viewer and you should do that to verify it contains all your work. Do not edit the file using a text editor (especially Word).  If you find a problem and you want to change something, restart your notebook and  edit that and re-execute any relevant code cells and re-save both the notebook and Python versions.  Submit **only** the Python (.py) file.  Notebook (.ipynb) files will not be opened.\n",
        "\n",
        "When running Google Colab, an alternative to downloading your notebook file to your local machine is to\n",
        "save it to your Google Drive (Menu path: `File > Save a Copy in Drive`).  You can then run it directly\n",
        "from your Google Drive.  My notebook files all appear in a folder on my Google Drive named `Colab Notebooks`.\n",
        "Note that Google executes the `Save a Copy` command by creating a copy with a name containing the prefix `Copy of` (for example,`Copy of python_types_assignment_2023`).  From now on, when you save the notebook, just use the `File > Save`  command, or your Google Drive will contain a chain of copies with ever lengthening names like `Copy of Copy of ....`.\n",
        "\n",
        "It is **highly recommended** that you install an Anaconda Python distribution on your home machine (the latest\n",
        "version is 688 MB and provides Python 3.9) since it has all the basics for the this course and since it allows\n",
        "you to run assignment notebooks on your own machine as Jupyter notebooks (even if you first completed\n",
        "the assignment in Google Colab).  Even if you do not install Python, you can run a saved Notebook in\n",
        "Google Colab as follows:\n",
        "\n",
        ">Go to [https://colab.research.google.com/](https://colab.research.google.com/) and login with your google account. You can choose to import your notebook either from Google drive, a local file, or Github. After you have the notebook open go to the top right and click connect. (Thanks to [Jessica Green at medium.com](https://medium.com/@jessica0greene/running-your-notebooks-in-the-cloud-with-google-colab-4387529bfad4#:~:text=Go%20to%20https%3A%2F%2Fcolab,top%20right%20and%20click%20connect.) for this)."
      ]
    },
    {
      "cell_type": "markdown",
      "metadata": {
        "id": "_3Sm1M10W74W"
      },
      "source": [
        "## Part One"
      ]
    },
    {
      "cell_type": "markdown",
      "metadata": {
        "id": "kWYWYfMiW74W"
      },
      "source": [
        "For the problems in Part One, assume all the definitions in the next cell, and check your answers by evaluating the next cell and verifying that your answers give the required results."
      ]
    },
    {
      "cell_type": "code",
      "execution_count": 90,
      "metadata": {
        "id": "19mvC4k2W74X"
      },
      "outputs": [],
      "source": [
        "# Note: the interpretation we will work with for city distances is that it is a weighted graph representing\n",
        "# city distances.  The weights represent the distance between the cities.\n",
        "city_distances = {'New York': {'Chicago': 790, 'Boston': 215, 'St. Louis': 953, 'Baltimore':188},\n",
        "                   'Chicago': {'Denver': 1_002, 'Omaha': 467, 'Salt Lake City':1_397},\n",
        "                   'Denver': {'Phoenix': 865, 'Salt Lake City': 528, },\n",
        "                   'Phoenix': { 'Albuquerque': 419,  'Reno': 739, 'San Diego': 355},\n",
        "                   'Dallas' : {'Houston': 241}\n",
        "                  }\n",
        "capitals = [ ('France', 'Paris'), ('Italy', 'Rome'), ('Germany', 'Berlin'),  ('England', 'London'),\n",
        "                          ('Sweden', 'Stockholm'), ('Norway', 'Oslo'), ('Poland', 'Warsaw')]\n",
        "country2capital = dict(capitals)\n",
        "dwarves = ('Sneezy', 'Doc', 'Sleepy','Happy','Dopey','Grumpy', 'Bashful')\n",
        "secret_word = \"sesame bagel\"\n",
        "historical_records = [{'name':'Fred Flinstone',\n",
        "                     'spouse': 'Wilma',\n",
        "                       'favorite_tv_shows': ['The Honeymooners', 'The Jetsons'],\n",
        "                      'town of residence': 'Bedrock'},\n",
        "                    {'name':'Barney Rubble',\n",
        "                     'spouse': 'Elizabeth',\n",
        "                     'favorite_tv_shows': ['The Crown', 'Bridgerton'],\n",
        "                      'town of residence': 'Bedrock'},\n",
        "                  ]"
      ]
    },
    {
      "cell_type": "markdown",
      "metadata": {
        "id": "ipI_NV8pW74b"
      },
      "source": [
        "In the problems below,  when you are asked to write an expression that \"accesses\". a particular name, that means your answer should **use** that name.  For example, if asked:\n",
        "\n",
        "\n",
        "   Write an expression that accesses `dwarves` and returns the value `'Grumpy'`.\n",
        "\n",
        "\n",
        "You might answer:\n",
        "\n",
        "```\n",
        "dwarves[-2]\n",
        "```\n",
        "\n",
        "because that is an expression that uses the name `dwarves` and returns the value\n",
        "`\"Grumpy\"`, as illustrated in the next cell."
      ]
    },
    {
      "cell_type": "code",
      "execution_count": 2,
      "metadata": {
        "colab": {
          "base_uri": "https://localhost:8080/",
          "height": 35
        },
        "id": "PLZS5ol9W74c",
        "outputId": "63f2345d-4974-4b67-e2d5-1e99b38544b1"
      },
      "outputs": [
        {
          "output_type": "execute_result",
          "data": {
            "text/plain": [
              "'Grumpy'"
            ],
            "application/vnd.google.colaboratory.intrinsic+json": {
              "type": "string"
            }
          },
          "metadata": {},
          "execution_count": 2
        }
      ],
      "source": [
        "dwarves[-2]"
      ]
    },
    {
      "cell_type": "markdown",
      "metadata": {
        "id": "-SdNV4DNW74i"
      },
      "source": [
        "## Exercise One\n",
        "\n",
        "In the next cell, write expression that accesses `dwarves` and returns the value `\"Bashful\"`."
      ]
    },
    {
      "cell_type": "code",
      "execution_count": 3,
      "metadata": {
        "colab": {
          "base_uri": "https://localhost:8080/",
          "height": 35
        },
        "id": "Ic5AnNKuW74j",
        "outputId": "8b82c8d2-5678-4f96-9e2d-d4a33ff09456"
      },
      "outputs": [
        {
          "output_type": "execute_result",
          "data": {
            "text/plain": [
              "'Bashful'"
            ],
            "application/vnd.google.colaboratory.intrinsic+json": {
              "type": "string"
            }
          },
          "metadata": {},
          "execution_count": 3
        }
      ],
      "source": [
        "dwarves[-1]"
      ]
    },
    {
      "cell_type": "markdown",
      "metadata": {
        "id": "nrb4FrpQW74m"
      },
      "source": [
        ""
      ]
    },
    {
      "cell_type": "markdown",
      "metadata": {
        "id": "gyonsXZjW74m"
      },
      "source": [
        "## Exercise Two\n",
        "\n",
        "In the next cell, write an expression that accesses `secret_word` and returns the value `\"m\"`.\n",
        "`."
      ]
    },
    {
      "cell_type": "code",
      "execution_count": 5,
      "metadata": {
        "colab": {
          "base_uri": "https://localhost:8080/",
          "height": 35
        },
        "id": "dLKwzgMKW74n",
        "outputId": "8c4f49b8-42d0-4a0f-95a1-e927b124dfe7"
      },
      "outputs": [
        {
          "output_type": "execute_result",
          "data": {
            "text/plain": [
              "'m'"
            ],
            "application/vnd.google.colaboratory.intrinsic+json": {
              "type": "string"
            }
          },
          "metadata": {},
          "execution_count": 5
        }
      ],
      "source": [
        "secret_word[4]"
      ]
    },
    {
      "cell_type": "markdown",
      "metadata": {
        "id": "SqgeJc1jW74p"
      },
      "source": [
        ""
      ]
    },
    {
      "cell_type": "markdown",
      "metadata": {
        "id": "IFmMMNrVW74q"
      },
      "source": [
        "## Exercise Three\n",
        "\n",
        "In the next cell, write an expression that accesses `dwarves` and produces an `IndexError`.  Try to make the index you use to access `dwarves` as small as possible."
      ]
    },
    {
      "cell_type": "code",
      "execution_count": 6,
      "metadata": {
        "colab": {
          "base_uri": "https://localhost:8080/",
          "height": 176
        },
        "id": "DC5oXusOW74r",
        "scrolled": true,
        "outputId": "42862d5b-a789-4c77-f487-09d2e16240cf"
      },
      "outputs": [
        {
          "output_type": "error",
          "ename": "IndexError",
          "evalue": "ignored",
          "traceback": [
            "\u001b[0;31m---------------------------------------------------------------------------\u001b[0m",
            "\u001b[0;31mIndexError\u001b[0m                                Traceback (most recent call last)",
            "\u001b[0;32m<ipython-input-6-6339e7ac61c1>\u001b[0m in \u001b[0;36m<cell line: 1>\u001b[0;34m()\u001b[0m\n\u001b[0;32m----> 1\u001b[0;31m \u001b[0mdwarves\u001b[0m\u001b[0;34m[\u001b[0m\u001b[0;36m7\u001b[0m\u001b[0;34m]\u001b[0m\u001b[0;34m\u001b[0m\u001b[0;34m\u001b[0m\u001b[0m\n\u001b[0m",
            "\u001b[0;31mIndexError\u001b[0m: tuple index out of range"
          ]
        }
      ],
      "source": [
        "dwarves[7]"
      ]
    },
    {
      "cell_type": "markdown",
      "metadata": {
        "id": "SRhYiXRJW74t"
      },
      "source": [
        "## Exercise Four\n",
        "\n",
        "In the next cell, write an expression that accesses `dwarves` and returns `\"ope\"`.  There is more than one answer.  See if you can find two."
      ]
    },
    {
      "cell_type": "code",
      "execution_count": 21,
      "metadata": {
        "colab": {
          "base_uri": "https://localhost:8080/"
        },
        "id": "sb81tMbDW74u",
        "outputId": "b5260f53-dc20-4735-cbec-e73947b7c525"
      },
      "outputs": [
        {
          "output_type": "stream",
          "name": "stdout",
          "text": [
            "ope\n",
            "\n"
          ]
        }
      ],
      "source": [
        "x = dwarves[4]\n",
        "print(x[1:4])\n",
        "print(x[:0])"
      ]
    },
    {
      "cell_type": "markdown",
      "metadata": {
        "id": "Yd_mC2AHW74w"
      },
      "source": [
        " ## Exercise Five\n",
        "\n",
        " In the next cell, write **a single Python expression** that accesses `secret_word` and returns\n",
        "\n",
        " ```\n",
        " ['sesame','bagel']\n",
        " ```\n",
        "\n",
        " You will need to use a string **method**, that is, a function called with the syntax `secret_word.function(...)`."
      ]
    },
    {
      "cell_type": "code",
      "execution_count": 27,
      "metadata": {
        "colab": {
          "base_uri": "https://localhost:8080/"
        },
        "id": "tRmFvB_8W74x",
        "outputId": "f01d0cf2-2311-461b-9ba7-d7c0527a1dda"
      },
      "outputs": [
        {
          "output_type": "execute_result",
          "data": {
            "text/plain": [
              "['sesame', 'bagel']"
            ]
          },
          "metadata": {},
          "execution_count": 27
        }
      ],
      "source": [
        "secret_word.split()"
      ]
    },
    {
      "cell_type": "markdown",
      "metadata": {
        "id": "0c5-_POaW74z"
      },
      "source": [
        ""
      ]
    },
    {
      "cell_type": "markdown",
      "metadata": {
        "id": "TyoTDs0_W740"
      },
      "source": [
        "## Exercise Six\n",
        "\n",
        "Explain what happens  when the following expression is evaluated.  Edit it to be an expression that returns `\"h\"`."
      ]
    },
    {
      "cell_type": "code",
      "execution_count": 35,
      "metadata": {
        "colab": {
          "base_uri": "https://localhost:8080/",
          "height": 194
        },
        "id": "jwYjbhIcW740",
        "outputId": "e17031ca-49a4-4d85-c2b4-354f17e2b50e",
        "scrolled": true
      },
      "outputs": [
        {
          "output_type": "error",
          "ename": "IndexError",
          "evalue": "ignored",
          "traceback": [
            "\u001b[0;31m---------------------------------------------------------------------------\u001b[0m",
            "\u001b[0;31mIndexError\u001b[0m                                Traceback (most recent call last)",
            "\u001b[0;32m<ipython-input-35-938f3952f5c1>\u001b[0m in \u001b[0;36m<cell line: 2>\u001b[0;34m()\u001b[0m\n\u001b[1;32m      1\u001b[0m \u001b[0mstr\u001b[0m\u001b[0;34m(\u001b[0m\u001b[0;34m'h'\u001b[0m\u001b[0;34m)\u001b[0m \u001b[0;34m==\u001b[0m \u001b[0mdwarves\u001b[0m\u001b[0;34m[\u001b[0m\u001b[0;36m6\u001b[0m\u001b[0;34m]\u001b[0m\u001b[0;34m\u001b[0m\u001b[0;34m\u001b[0m\u001b[0m\n\u001b[0;32m----> 2\u001b[0;31m \u001b[0mdwarves\u001b[0m\u001b[0;34m[\u001b[0m\u001b[0;36m7\u001b[0m\u001b[0;34m]\u001b[0m\u001b[0;34m\u001b[0m\u001b[0;34m\u001b[0m\u001b[0m\n\u001b[0m",
            "\u001b[0;31mIndexError\u001b[0m: tuple index out of range"
          ]
        }
      ],
      "source": [
        "str('h') == dwarves[6]\n",
        "dwarves[6]"
      ]
    },
    {
      "cell_type": "markdown",
      "metadata": {
        "id": "XiYz0eUBHSCq"
      },
      "source": [
        "[Your explanation goes here].  Double click on this cell to begin editing.  Type [Shift-Return]  when you're finished writing."
      ]
    },
    {
      "cell_type": "code",
      "execution_count": null,
      "metadata": {
        "id": "oObTnWQSHSCq"
      },
      "outputs": [],
      "source": [
        "# Edited version of the Python expression above\n"
      ]
    },
    {
      "cell_type": "markdown",
      "metadata": {
        "id": "VabiRPzPW743"
      },
      "source": [
        ""
      ]
    },
    {
      "cell_type": "markdown",
      "metadata": {
        "id": "GyNmzb8iW743"
      },
      "source": [
        "## Exercise Seven\n",
        "\n",
        "In the next cell, write an expression that accesses `dwarves[2]` and returns `True`.\n",
        "\n",
        "You will need to perform a Boolean test."
      ]
    },
    {
      "cell_type": "code",
      "execution_count": 39,
      "metadata": {
        "colab": {
          "base_uri": "https://localhost:8080/"
        },
        "id": "S5ObRPoaW744",
        "outputId": "df0c41a0-73da-4fb5-bb31-25dd1b97c341"
      },
      "outputs": [
        {
          "output_type": "execute_result",
          "data": {
            "text/plain": [
              "True"
            ]
          },
          "metadata": {},
          "execution_count": 39
        }
      ],
      "source": [
        "dwarves[2] == 'Sleepy'"
      ]
    },
    {
      "cell_type": "markdown",
      "metadata": {
        "id": "BHPox3R5W747"
      },
      "source": [
        ""
      ]
    },
    {
      "cell_type": "markdown",
      "metadata": {
        "id": "MTSVrHjiW747"
      },
      "source": [
        " ## Exercise Eight A\n",
        "\n",
        "In the next cell, write an expression that accesses `capitals` and raises\n",
        "a `TypeError`."
      ]
    },
    {
      "cell_type": "code",
      "execution_count": 42,
      "metadata": {
        "colab": {
          "base_uri": "https://localhost:8080/",
          "height": 176
        },
        "id": "dQlgKSz1W748",
        "outputId": "939ae143-e9fe-435a-f84c-847c501fd053"
      },
      "outputs": [
        {
          "output_type": "error",
          "ename": "TypeError",
          "evalue": "ignored",
          "traceback": [
            "\u001b[0;31m---------------------------------------------------------------------------\u001b[0m",
            "\u001b[0;31mTypeError\u001b[0m                                 Traceback (most recent call last)",
            "\u001b[0;32m<ipython-input-42-bf2695d0adf4>\u001b[0m in \u001b[0;36m<cell line: 1>\u001b[0;34m()\u001b[0m\n\u001b[0;32m----> 1\u001b[0;31m \u001b[0msum\u001b[0m\u001b[0;34m(\u001b[0m\u001b[0mcapitals\u001b[0m\u001b[0;34m)\u001b[0m\u001b[0;34m\u001b[0m\u001b[0;34m\u001b[0m\u001b[0m\n\u001b[0m",
            "\u001b[0;31mTypeError\u001b[0m: unsupported operand type(s) for +: 'int' and 'tuple'"
          ]
        }
      ],
      "source": [
        "sum(capitals)"
      ]
    },
    {
      "cell_type": "markdown",
      "metadata": {
        "id": "8_aGgrUSHSCr"
      },
      "source": [
        "## Exercise Eight B\n",
        "\n",
        "In the next cell, write an expression that accesses `capitals` and raises\n",
        "an `IndexError`.  If this can't be done, explain why."
      ]
    },
    {
      "cell_type": "code",
      "execution_count": 53,
      "metadata": {
        "colab": {
          "base_uri": "https://localhost:8080/",
          "height": 176
        },
        "id": "TjhJjqoIHSCr",
        "outputId": "2ae7b09f-a492-4c0e-c844-1226092ea557"
      },
      "outputs": [
        {
          "output_type": "error",
          "ename": "ValueError",
          "evalue": "ignored",
          "traceback": [
            "\u001b[0;31m---------------------------------------------------------------------------\u001b[0m",
            "\u001b[0;31mValueError\u001b[0m                                Traceback (most recent call last)",
            "\u001b[0;32m<ipython-input-53-5fc400aa7e07>\u001b[0m in \u001b[0;36m<cell line: 1>\u001b[0;34m()\u001b[0m\n\u001b[0;32m----> 1\u001b[0;31m \u001b[0mcapitals\u001b[0m\u001b[0;34m.\u001b[0m\u001b[0mindex\u001b[0m\u001b[0;34m(\u001b[0m\u001b[0;34m'bob'\u001b[0m\u001b[0;34m)\u001b[0m\u001b[0;34m\u001b[0m\u001b[0;34m\u001b[0m\u001b[0m\n\u001b[0m",
            "\u001b[0;31mValueError\u001b[0m: 'bob' is not in list"
          ]
        }
      ],
      "source": [
        "capitals.index('bob')"
      ]
    },
    {
      "cell_type": "markdown",
      "metadata": {
        "id": "iYvtwcQGHSCs"
      },
      "source": [
        "## Exercise Eight C\n",
        "\n",
        "In the next cell, write an expression that accesses `capitals` and raises\n",
        "a `KeyError`.  If this can't be done, explain why."
      ]
    },
    {
      "cell_type": "code",
      "execution_count": 61,
      "metadata": {
        "colab": {
          "base_uri": "https://localhost:8080/",
          "height": 176
        },
        "id": "EwU4apyLHSCs",
        "outputId": "2332e9c1-c289-4b2d-b604-3d56a197a97c"
      },
      "outputs": [
        {
          "output_type": "error",
          "ename": "TypeError",
          "evalue": "ignored",
          "traceback": [
            "\u001b[0;31m---------------------------------------------------------------------------\u001b[0m",
            "\u001b[0;31mTypeError\u001b[0m                                 Traceback (most recent call last)",
            "\u001b[0;32m<ipython-input-61-42c4852eb8bb>\u001b[0m in \u001b[0;36m<cell line: 1>\u001b[0;34m()\u001b[0m\n\u001b[0;32m----> 1\u001b[0;31m \u001b[0mcapitals\u001b[0m\u001b[0;34m[\u001b[0m\u001b[0mcity_distances\u001b[0m\u001b[0;34m(\u001b[0m\u001b[0;36m2\u001b[0m\u001b[0;34m)\u001b[0m\u001b[0;34m]\u001b[0m\u001b[0;34m\u001b[0m\u001b[0;34m\u001b[0m\u001b[0m\n\u001b[0m",
            "\u001b[0;31mTypeError\u001b[0m: 'dict' object is not callable"
          ]
        }
      ],
      "source": [
        "capitals[city_distances(2)]"
      ]
    },
    {
      "cell_type": "markdown",
      "metadata": {
        "id": "o0uOi3F1W74-"
      },
      "source": [
        ""
      ]
    },
    {
      "cell_type": "markdown",
      "metadata": {
        "id": "BAs0bfXxW75D"
      },
      "source": [
        "## Exercise Nine\n",
        "\n",
        "In the next cell, write an expression that accesses `city_distances` and returns `419`."
      ]
    },
    {
      "cell_type": "code",
      "execution_count": 70,
      "metadata": {
        "colab": {
          "base_uri": "https://localhost:8080/"
        },
        "id": "hVFy1awGW75D",
        "outputId": "816dd5f9-fe24-4b1a-8053-0d33fe726996"
      },
      "outputs": [
        {
          "output_type": "execute_result",
          "data": {
            "text/plain": [
              "419"
            ]
          },
          "metadata": {},
          "execution_count": 70
        }
      ],
      "source": [
        "x = city_distances['Phoenix']\n",
        "x['Albuquerque']"
      ]
    },
    {
      "cell_type": "markdown",
      "metadata": {
        "id": "CIlyrl7EW75H"
      },
      "source": [
        "## Exercise Ten A\n",
        "\n",
        "In the next cell, write an expression that accesses `capitals` and returns `\"Stockholm\"`."
      ]
    },
    {
      "cell_type": "code",
      "execution_count": 82,
      "metadata": {
        "colab": {
          "base_uri": "https://localhost:8080/",
          "height": 35
        },
        "id": "YJ_IQE0eHSC0",
        "outputId": "2841d97c-c030-4d4d-fe54-341fc590d73f"
      },
      "outputs": [
        {
          "output_type": "execute_result",
          "data": {
            "text/plain": [
              "'Stockholm'"
            ],
            "application/vnd.google.colaboratory.intrinsic+json": {
              "type": "string"
            }
          },
          "metadata": {},
          "execution_count": 82
        }
      ],
      "source": [
        "capitals[6][1]\n"
      ]
    },
    {
      "cell_type": "markdown",
      "metadata": {
        "id": "5xxW7h4XHSC0"
      },
      "source": [
        "## Exercise Ten B\n",
        "\n",
        "In the next cell, write an expression that accesses `country2capital` and returns `\"Stockholm\"`."
      ]
    },
    {
      "cell_type": "code",
      "execution_count": 88,
      "metadata": {
        "colab": {
          "base_uri": "https://localhost:8080/",
          "height": 35
        },
        "id": "rcRKHvnKHSC0",
        "outputId": "741f0a00-1a1a-41d8-bc1d-86b70a9007bc"
      },
      "outputs": [
        {
          "output_type": "execute_result",
          "data": {
            "text/plain": [
              "'Stockholm'"
            ],
            "application/vnd.google.colaboratory.intrinsic+json": {
              "type": "string"
            }
          },
          "metadata": {},
          "execution_count": 88
        }
      ],
      "source": [
        "country2capital['Sweden']"
      ]
    },
    {
      "cell_type": "markdown",
      "metadata": {
        "id": "5rxYWbcJW75L"
      },
      "source": [
        ""
      ]
    },
    {
      "cell_type": "markdown",
      "metadata": {
        "id": "s4HBqIahW75M"
      },
      "source": [
        "## Exercise Eleven\n",
        "\n",
        "In the next cell, write an expression that accesses `historical_records` and returns `Jetsons`.\n",
        "(There's more than one way to do this. The easy way uses the `.split(...)` method on strings.)"
      ]
    },
    {
      "cell_type": "code",
      "execution_count": 109,
      "metadata": {
        "colab": {
          "base_uri": "https://localhost:8080/",
          "height": 35
        },
        "id": "gVKYQYLVW75M",
        "outputId": "caf39b28-e936-4a50-d6e9-27d377e59cfe"
      },
      "outputs": [
        {
          "output_type": "execute_result",
          "data": {
            "text/plain": [
              "'The Jetsons'"
            ],
            "application/vnd.google.colaboratory.intrinsic+json": {
              "type": "string"
            }
          },
          "metadata": {},
          "execution_count": 109
        }
      ],
      "source": [
        "historical_records[0]['favorite_tv_shows'][1]"
      ]
    },
    {
      "cell_type": "markdown",
      "metadata": {
        "id": "-7xecYYuW75P"
      },
      "source": [
        ""
      ]
    },
    {
      "cell_type": "markdown",
      "metadata": {
        "id": "5WCkETk-W75P"
      },
      "source": [
        "## Exercise Twelve\n",
        "\n",
        "In the next cell, write an expression that accesses `historical_records` and returns `\"roc\"`."
      ]
    },
    {
      "cell_type": "code",
      "execution_count": 118,
      "metadata": {
        "colab": {
          "base_uri": "https://localhost:8080/",
          "height": 35
        },
        "id": "gL-f2FucW75P",
        "outputId": "0d140ead-aa8c-428d-cc7a-fea1a049a67d"
      },
      "outputs": [
        {
          "output_type": "execute_result",
          "data": {
            "text/plain": [
              "'roc'"
            ],
            "application/vnd.google.colaboratory.intrinsic+json": {
              "type": "string"
            }
          },
          "metadata": {},
          "execution_count": 118
        }
      ],
      "source": [
        "historical_records[1]['town of residence'][3:6]"
      ]
    },
    {
      "cell_type": "markdown",
      "metadata": {
        "id": "JbtVOFMCW75S"
      },
      "source": [
        ""
      ]
    },
    {
      "cell_type": "markdown",
      "metadata": {
        "id": "NiSCfU1BW75T"
      },
      "source": [
        "## Exercise Thirteen\n",
        "\n",
        "Can you write an expression that sets the first element of `dwarves` to be `\"Thorin\"`.  If not, why not?\n",
        "\n",
        "You may use the next cell to illustrate your answer."
      ]
    },
    {
      "cell_type": "code",
      "execution_count": 100,
      "metadata": {
        "colab": {
          "base_uri": "https://localhost:8080/",
          "height": 176
        },
        "id": "HBCHHfnOHSC3",
        "outputId": "b27bec1b-6bab-4c1f-e0ac-7ff1894a9525"
      },
      "outputs": [
        {
          "output_type": "error",
          "ename": "TypeError",
          "evalue": "ignored",
          "traceback": [
            "\u001b[0;31m---------------------------------------------------------------------------\u001b[0m",
            "\u001b[0;31mTypeError\u001b[0m                                 Traceback (most recent call last)",
            "\u001b[0;32m<ipython-input-100-6da737b2b250>\u001b[0m in \u001b[0;36m<cell line: 1>\u001b[0;34m()\u001b[0m\n\u001b[0;32m----> 1\u001b[0;31m \u001b[0mdwarves\u001b[0m\u001b[0;34m[\u001b[0m\u001b[0;36m0\u001b[0m\u001b[0;34m]\u001b[0m \u001b[0;34m=\u001b[0m \u001b[0mdwarves\u001b[0m \u001b[0;34m+\u001b[0m \u001b[0mstr\u001b[0m\u001b[0;34m(\u001b[0m\u001b[0;34m'Thorin'\u001b[0m\u001b[0;34m)\u001b[0m\u001b[0;34m\u001b[0m\u001b[0;34m\u001b[0m\u001b[0m\n\u001b[0m",
            "\u001b[0;31mTypeError\u001b[0m: can only concatenate tuple (not \"str\") to tuple"
          ]
        }
      ],
      "source": [
        "dwarves[0] = str('Thorin')\n",
        "'Cannot because tuples are not mutable'"
      ]
    },
    {
      "cell_type": "markdown",
      "metadata": {
        "id": "H7lDWVTTW75X"
      },
      "source": [
        ""
      ]
    },
    {
      "cell_type": "markdown",
      "metadata": {
        "id": "rehiuvcXW75Y"
      },
      "source": [
        "## Exercise Fourteen\n",
        "\n",
        "In the next cell, write an expression that accesses `capitals[-2]` and returns `True`."
      ]
    },
    {
      "cell_type": "code",
      "execution_count": 103,
      "metadata": {
        "colab": {
          "base_uri": "https://localhost:8080/"
        },
        "id": "nk-QggFxHSC3",
        "outputId": "ac37d5e9-ebd0-46f4-8d24-fca69afbbb93"
      },
      "outputs": [
        {
          "output_type": "execute_result",
          "data": {
            "text/plain": [
              "True"
            ]
          },
          "metadata": {},
          "execution_count": 103
        }
      ],
      "source": [
        "'Norway' in capitals[-2]"
      ]
    },
    {
      "cell_type": "markdown",
      "metadata": {
        "id": "Un339aJjW75c"
      },
      "source": [
        ""
      ]
    },
    {
      "cell_type": "markdown",
      "metadata": {
        "id": "olFPDUg7W75c"
      },
      "source": [
        "## Exercise Fifteen\n",
        "\n",
        "In the next cell, write an expression that accesses `city_distances` and returns\n",
        "a dictionary with three keys. Would your answer be any different if you were asked to\n",
        "return a dictionary of length 3?  If you say yes, produce a different answer; if\n",
        "you say no, demonstrate that your answer to the first question is also an answer to\n",
        "the second.  You will need to create a new cell below the code cell below this one\n",
        "for your second answer."
      ]
    },
    {
      "cell_type": "code",
      "execution_count": 119,
      "metadata": {
        "colab": {
          "base_uri": "https://localhost:8080/"
        },
        "id": "jJNlecohW75Z",
        "outputId": "02b6e383-41aa-4c63-d546-f950cc2d174a"
      },
      "outputs": [
        {
          "output_type": "execute_result",
          "data": {
            "text/plain": [
              "[{'name': 'Fred Flinstone',\n",
              "  'spouse': 'Wilma',\n",
              "  'favorite_tv_shows': ['The Honeymooners', 'The Jetsons'],\n",
              "  'town of residence': 'Bedrock'},\n",
              " {'name': 'Barney Rubble',\n",
              "  'spouse': 'Elizabeth',\n",
              "  'favorite_tv_shows': ['The Crown', 'Bridgerton'],\n",
              "  'town of residence': 'Bedrock'}]"
            ]
          },
          "metadata": {},
          "execution_count": 119
        }
      ],
      "source": [
        "historical_records"
      ]
    },
    {
      "cell_type": "markdown",
      "metadata": {
        "id": "YVevbGEBHSC5"
      },
      "source": [
        "## Exercise Sixteen\n",
        "\n",
        "In the next cell update `historical_records` so that Barney Rubble's spouse\n",
        "changes from `\"Elizabeth\"`  to \"`Betty\"`."
      ]
    },
    {
      "cell_type": "code",
      "execution_count": 127,
      "metadata": {
        "id": "9Hl6EBlZHSC6"
      },
      "outputs": [],
      "source": [
        "historical_records[0]['spouse'] = 'Betty'"
      ]
    },
    {
      "cell_type": "markdown",
      "metadata": {
        "id": "dkhABGZoHSC6"
      },
      "source": [
        "## Exercise Seventeen\n",
        "\n",
        "The next cell raises a `TypeError`.  Explain why. Be sure to say what string is causing the rror."
      ]
    },
    {
      "cell_type": "code",
      "execution_count": 128,
      "metadata": {
        "colab": {
          "base_uri": "https://localhost:8080/",
          "height": 194
        },
        "id": "vR3TBga6HSC6",
        "outputId": "05701bf0-aa24-4a0e-8a82-89471bbdae80"
      },
      "outputs": [
        {
          "output_type": "error",
          "ename": "TypeError",
          "evalue": "ignored",
          "traceback": [
            "\u001b[0;31m---------------------------------------------------------------------------\u001b[0m",
            "\u001b[0;31mTypeError\u001b[0m                                 Traceback (most recent call last)",
            "\u001b[0;32m<ipython-input-128-04d25f2725ee>\u001b[0m in \u001b[0;36m<cell line: 1>\u001b[0;34m()\u001b[0m\n\u001b[0;32m----> 1\u001b[0;31m \u001b[0mhistorical_records\u001b[0m\u001b[0;34m[\u001b[0m\u001b[0;36m0\u001b[0m\u001b[0;34m]\u001b[0m\u001b[0;34m[\u001b[0m\u001b[0;34m'spouse'\u001b[0m\u001b[0;34m]\u001b[0m\u001b[0;34m[\u001b[0m\u001b[0;36m0\u001b[0m\u001b[0;34m]\u001b[0m  \u001b[0;34m=\u001b[0m \u001b[0;34m'V'\u001b[0m\u001b[0;34m\u001b[0m\u001b[0;34m\u001b[0m\u001b[0m\n\u001b[0m\u001b[1;32m      2\u001b[0m \u001b[0;34m'Needs .update() function'\u001b[0m\u001b[0;34m\u001b[0m\u001b[0;34m\u001b[0m\u001b[0m\n",
            "\u001b[0;31mTypeError\u001b[0m: 'str' object does not support item assignment"
          ]
        }
      ],
      "source": [
        "historical_records[0]['spouse'][0]  = 'V'\n",
        "##Remove the second [0] since there is only one definition for 'spouse''"
      ]
    },
    {
      "cell_type": "markdown",
      "metadata": {
        "id": "D5KYyKC4HSC7"
      },
      "source": [
        "## Exercise Eighteen\n",
        "\n",
        "In this problem, your task is to write an assignment statement that changes the distance from\n",
        "Chicago to New York in `city_distances` from 790 to 789."
      ]
    },
    {
      "cell_type": "markdown",
      "metadata": {
        "id": "Gsdp_T5MHSC7"
      },
      "source": [
        "Put your answer, which should be an assignment, in the next cell.\n",
        "\n",
        "Be sure to check your answer as well by accessing the updated data value."
      ]
    },
    {
      "cell_type": "markdown",
      "metadata": {
        "id": "-SmuZa2HW75g"
      },
      "source": [
        "city_distances['Chicago']['New York']"
      ]
    },
    {
      "cell_type": "code",
      "source": [
        "city_distances['New York']['Chicago'] = 789\n",
        "city_distances['New York']['Chicago']"
      ],
      "metadata": {
        "colab": {
          "base_uri": "https://localhost:8080/"
        },
        "id": "cTQSOYn9QLSQ",
        "outputId": "d443c88f-e39c-4f79-c200-08f4dc2eccc1"
      },
      "execution_count": 134,
      "outputs": [
        {
          "output_type": "execute_result",
          "data": {
            "text/plain": [
              "789"
            ]
          },
          "metadata": {},
          "execution_count": 134
        }
      ]
    },
    {
      "cell_type": "markdown",
      "metadata": {
        "id": "qwn17TUFW75h"
      },
      "source": [
        "##       Part Two"
      ]
    },
    {
      "cell_type": "markdown",
      "metadata": {
        "id": "Ma_hoftyW75h"
      },
      "source": [
        "Write down expressions to retrieve the given values from the given variables."
      ]
    },
    {
      "cell_type": "markdown",
      "metadata": {
        "id": "XvH9JnpVW75i"
      },
      "source": [
        "1) `'pp'` from `dwarves`"
      ]
    },
    {
      "cell_type": "code",
      "execution_count": null,
      "metadata": {
        "id": "grPenshDW75i"
      },
      "outputs": [],
      "source": []
    },
    {
      "cell_type": "markdown",
      "metadata": {
        "id": "hCEFKZu0W75k"
      },
      "source": [
        "2) `'rsa'` from `country2capital`"
      ]
    },
    {
      "cell_type": "code",
      "execution_count": null,
      "metadata": {
        "id": "YfPfNTfrW75k"
      },
      "outputs": [],
      "source": []
    },
    {
      "cell_type": "markdown",
      "metadata": {
        "id": "AziVAtqLW75n"
      },
      "source": [
        "3) `'rma'` from `capitals`"
      ]
    },
    {
      "cell_type": "code",
      "execution_count": null,
      "metadata": {
        "id": "Kd0ImWxkW75o"
      },
      "outputs": [],
      "source": []
    },
    {
      "cell_type": "markdown",
      "metadata": {
        "id": "FAG5HtfyW75q"
      },
      "source": [
        "4) `'rma'` from `country2capital` (Hint:  You will need to use a method appropriate for the container\n",
        "this substring is in)"
      ]
    },
    {
      "cell_type": "code",
      "execution_count": null,
      "metadata": {
        "id": "1RbAp7uVW75r"
      },
      "outputs": [],
      "source": []
    },
    {
      "cell_type": "markdown",
      "metadata": {
        "id": "7ZMgB6DRW75t"
      },
      "source": [
        "## Part Three"
      ]
    },
    {
      "cell_type": "code",
      "metadata": {
        "id": "S0LjtauVW75t"
      },
      "source": [
        "The `city_distances` dictionary provides information about distances between U. S. city pairs.  It does not cover all U.S. city pairs; in fact it only covers  13 city pairs.  Besides its incompleteness, there is a significant problem with how the information is represented.  In this problem you will reoorganize the data and represent it in a way\n",
        "that fixes this problem.\n",
        "\n",
        "Here is a hint as to what the problem is. Even though `city_distances` contains information about the distance between Chicago and New York, the following is an error:"
      ],
      "execution_count": null,
      "outputs": []
    },
    {
      "cell_type": "code",
      "execution_count": null,
      "metadata": {
        "id": "DtdfqRVyHSC-",
        "outputId": "136bbd0d-77a0-4a26-a477-6ca5482c5f7c"
      },
      "outputs": [
        {
          "ename": "KeyError",
          "evalue": "'New York'",
          "output_type": "error",
          "traceback": [
            "\u001b[0;31m---------------------------------------------------------------------------\u001b[0m",
            "\u001b[0;31mKeyError\u001b[0m                                  Traceback (most recent call last)",
            "\u001b[0;32m/var/folders/w9/bx4mylnd27g_kqqgn5hrn2x40000gr/T/ipykernel_60197/824707247.py\u001b[0m in \u001b[0;36m<module>\u001b[0;34m\u001b[0m\n\u001b[0;32m----> 1\u001b[0;31m \u001b[0mcity_distances\u001b[0m\u001b[0;34m[\u001b[0m\u001b[0;34m'Chicago'\u001b[0m\u001b[0;34m]\u001b[0m\u001b[0;34m[\u001b[0m\u001b[0;34m'New York'\u001b[0m\u001b[0;34m]\u001b[0m\u001b[0;34m\u001b[0m\u001b[0m\n\u001b[0m",
            "\u001b[0;31mKeyError\u001b[0m: 'New York'"
          ]
        }
      ],
      "source": [
        "city_distances['Chicago']['New York']"
      ]
    },
    {
      "cell_type": "markdown",
      "metadata": {
        "id": "VrLFjzbOHSC-"
      },
      "source": [
        "Notice it's not that the data is being looked up in a way inconsistent with the dictionary's design.  The following is fine:"
      ]
    },
    {
      "cell_type": "code",
      "execution_count": null,
      "metadata": {
        "id": "lxQ9wIGIHSC_",
        "outputId": "af15f0f3-5fc7-4ed5-8a64-67d0a65ef3d5"
      },
      "outputs": [
        {
          "data": {
            "text/plain": [
              "419"
            ]
          },
          "execution_count": 13,
          "metadata": {},
          "output_type": "execute_result"
        }
      ],
      "source": [
        "city_distances['Phoenix']['Albuquerque']"
      ]
    },
    {
      "cell_type": "markdown",
      "metadata": {
        "id": "UyDTi9MlHSC_"
      },
      "source": [
        "Imagine that the typical user can't look at the definition of the dictionary.  They know how to use it\n",
        "and they know the city pairs that it covers. Explain the problem and why this puts an undue burden on the user. Hint: How **do** you look up the distance between Chicago and New York? Come up with a different way of representing the same data that solves this problem. Note:  Your solution should not introduce redundancy into the representation.  Don't store the same piece of information twice.  Your solution  should give the user one fairly natural way of looking up any of the 13 distances available in the data.  And it should not require the user to know any arbitrary facts about how any indvidual city distance is stored.\n",
        "\n",
        "This problem is about designing a a good way to represent some information. You can illustrate your\n",
        "design idea without typing in all 13 city pairs.  How about just doing three, one of which should\n",
        "be Chicago and New York?"
      ]
    },
    {
      "cell_type": "markdown",
      "metadata": {
        "id": "VJQo1KOhW75w"
      },
      "source": [
        "  "
      ]
    }
  ],
  "metadata": {
    "colab": {
      "name": "python_types_assignment_2020.ipynb",
      "provenance": []
    },
    "kernelspec": {
      "display_name": "Python 3 (ipykernel)",
      "language": "python",
      "name": "python3"
    },
    "language_info": {
      "codemirror_mode": {
        "name": "ipython",
        "version": 3
      },
      "file_extension": ".py",
      "mimetype": "text/x-python",
      "name": "python",
      "nbconvert_exporter": "python",
      "pygments_lexer": "ipython3",
      "version": "3.7.0"
    },
    "toc": {
      "base_numbering": 1,
      "nav_menu": {
        "height": "67px",
        "width": "252px"
      },
      "number_sections": true,
      "sideBar": true,
      "skip_h1_title": false,
      "title_cell": "Table of Contents",
      "title_sidebar": "Contents",
      "toc_cell": false,
      "toc_position": {},
      "toc_section_display": "block",
      "toc_window_display": false
    }
  },
  "nbformat": 4,
  "nbformat_minor": 0
}